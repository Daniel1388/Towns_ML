{
  "nbformat": 4,
  "nbformat_minor": 0,
  "metadata": {
    "colab": {
      "provenance": []
    },
    "kernelspec": {
      "name": "python3",
      "display_name": "Python 3"
    },
    "language_info": {
      "name": "python"
    }
  },
  "cells": [
    {
      "cell_type": "markdown",
      "source": [
        "##1. Lista de librerias"
      ],
      "metadata": {
        "id": "hxtuDEVHzAFk"
      }
    },
    {
      "cell_type": "code",
      "source": [
        "pip install unidecode"
      ],
      "metadata": {
        "colab": {
          "base_uri": "https://localhost:8080/"
        },
        "id": "qBCf_ZjEVXaE",
        "outputId": "4cefeabc-5c55-4201-88d6-8d0750c075e1"
      },
      "execution_count": 2,
      "outputs": [
        {
          "output_type": "stream",
          "name": "stdout",
          "text": [
            "Collecting unidecode\n",
            "  Downloading Unidecode-1.3.6-py3-none-any.whl (235 kB)\n",
            "\u001b[?25l     \u001b[90m━━━━━━━━━━━━━━━━━━━━━━━━━━━━━━━━━━━━━━━━\u001b[0m \u001b[32m0.0/235.9 kB\u001b[0m \u001b[31m?\u001b[0m eta \u001b[36m-:--:--\u001b[0m\r\u001b[2K     \u001b[91m━━━━━━━━━━━━━━━━\u001b[0m\u001b[91m╸\u001b[0m\u001b[90m━━━━━━━━━━━━━━━━━━━━━━\u001b[0m \u001b[32m102.4/235.9 kB\u001b[0m \u001b[31m2.8 MB/s\u001b[0m eta \u001b[36m0:00:01\u001b[0m\r\u001b[2K     \u001b[90m━━━━━━━━━━━━━━━━━━━━━━━━━━━━━━━━━━━━━━━\u001b[0m \u001b[32m235.9/235.9 kB\u001b[0m \u001b[31m3.9 MB/s\u001b[0m eta \u001b[36m0:00:00\u001b[0m\n",
            "\u001b[?25hInstalling collected packages: unidecode\n",
            "Successfully installed unidecode-1.3.6\n"
          ]
        }
      ]
    },
    {
      "cell_type": "code",
      "source": [
        "import pandas as pd\n",
        "import numpy as np\n",
        "from unidecode import unidecode\n",
        "from sklearn.preprocessing import MinMaxScaler\n",
        "import matplotlib.pyplot as plt\n",
        "from sklearn.decomposition import PCA"
      ],
      "metadata": {
        "id": "Fb5Z9-uP2VJO"
      },
      "execution_count": 3,
      "outputs": []
    },
    {
      "cell_type": "code",
      "source": [
        "from google.colab import drive\n",
        "drive.mount('/content/drive')"
      ],
      "metadata": {
        "colab": {
          "base_uri": "https://localhost:8080/"
        },
        "id": "ZZrFvd3QX0ev",
        "outputId": "e752742e-7b5b-45e1-e3f3-7615303fa246"
      },
      "execution_count": 4,
      "outputs": [
        {
          "output_type": "stream",
          "name": "stdout",
          "text": [
            "Mounted at /content/drive\n"
          ]
        }
      ]
    },
    {
      "cell_type": "markdown",
      "source": [
        "##2 Funciones"
      ],
      "metadata": {
        "id": "YEt2eVabU2yc"
      }
    },
    {
      "cell_type": "code",
      "source": [
        "%run '/content/drive/MyDrive/Colab Notebooks/Tesis_Functions.ipynb'"
      ],
      "metadata": {
        "colab": {
          "base_uri": "https://localhost:8080/"
        },
        "id": "299C4TdJLGty",
        "outputId": "fa294112-da7b-4b96-84d3-72294b9de6a6"
      },
      "execution_count": 5,
      "outputs": [
        {
          "output_type": "stream",
          "name": "stdout",
          "text": [
            "Requirement already satisfied: unidecode in /usr/local/lib/python3.10/dist-packages (1.3.6)\n",
            "Selectkbest_features Loaded\n",
            "rfe_features Loaded\n",
            "Integración de Variables Loaded\n",
            "evaluacion de los modelos Loaded\n",
            "Pca_components Loaded\n",
            "Improtancia con XGBoost y Random forest Loaded\n",
            "XG_BOOST Regression Loaded\n",
            "Random Forest Loaded\n",
            "quitar_tildes Loaded\n",
            "completar_datos_serie_tiempo Loaded\n",
            "eliminar_filas_nan Loaded\n",
            "cambiar_numeros_menores Loaded\n",
            "normalize_variables Loaded\n",
            "calcular_crecimiento_ingresos Loaded\n",
            "obtener_variables_correlacionadas Loaded\n",
            "generar_componentes_principales Loaded\n",
            "rfe_with_elasticnet Loaded\n",
            "calcular_crecimiento_promedio_por_categoria_Predial Loaded\n",
            "categorizar_por_boxplot Loaded\n",
            "calcular_crecimiento_promedio_por_categoria Loaded\n",
            "limitar_atipicos Loaded\n",
            "crear_dummies Loaded\n"
          ]
        }
      ]
    },
    {
      "cell_type": "markdown",
      "source": [
        "##3. Cargar Datos Clasificación"
      ],
      "metadata": {
        "id": "QFBmcjxl8ILa"
      }
    },
    {
      "cell_type": "code",
      "source": [
        "#Lista de municipios (Regresión: ok; Clasifficación: ok)\n",
        "archivo_csv = 'https://drive.google.com/uc?export=download&id=1a9IfZDuiqbhh2iefH8BMarHL8IXWpayF'\n",
        "df = pd.read_csv(archivo_csv, sep=';', encoding='latin-1')\n",
        "Municipios = pd.read_csv(archivo_csv, sep=';', encoding='latin-1')"
      ],
      "metadata": {
        "id": "WjFkgyJa8Hv8"
      },
      "execution_count": 6,
      "outputs": []
    },
    {
      "cell_type": "code",
      "source": [
        "#Impuesto predial por municipio (Regresión: ok)\n",
        "archivo_csv = 'https://drive.google.com/uc?export=download&id=1c58chHv4Gt4vEq0trAkjdJdFza_Xlce9'\n",
        "Predial_Transpuesto = pd.read_csv(archivo_csv, sep=';')\n",
        "\n",
        "#Impuesto predial por municipio (Clasificación: ok)\n",
        "Cat_Clasificiacion=calcular_crecimiento_promedio_por_categoria_Predial(Predial_Transpuesto,2008,2010,2018,2020)\n",
        "Cat_Clasificiacion=Cat_Clasificiacion.to_frame().reset_index()\n",
        "Categorias_Predial=categorizar_por_boxplot(Cat_Clasificiacion,Cat_Clasificiacion['Predial'])"
      ],
      "metadata": {
        "id": "HCvKV9-8XMiZ"
      },
      "execution_count": 7,
      "outputs": []
    },
    {
      "cell_type": "code",
      "source": [
        "#IPS por municipio (Clasificación: ok)\n",
        "archivo_csv = 'https://drive.google.com/uc?export=download&id=1FnlTto45_Uf2kfgplRG3BIGO5cuwowpe'\n",
        "IPS = pd.read_csv(archivo_csv, sep=';', encoding='latin-1')\n",
        "IPS = IPS.fillna(0)"
      ],
      "metadata": {
        "id": "JyOHKAKeXVE6"
      },
      "execution_count": 8,
      "outputs": []
    },
    {
      "cell_type": "code",
      "source": [
        "#Información agricola por municipio (Clasificación: ok)\n",
        "archivo_csv = 'https://drive.google.com/uc?export=download&id=1VPjkJTYKuUYzK6Gy5Lgf_oUKbLEjJ0ci'\n",
        "Agricultura = pd.read_csv(archivo_csv, sep=';')\n",
        "Agricultura = Agricultura.fillna(1)\n",
        "lista_columnas = Agricultura[Agricultura.columns.difference(['Municipio','Year'])].columns.tolist()\n",
        "Agricultura=calcular_crecimiento_promedio_por_categoria(Agricultura,lista_columnas,2008,2010,2018,2020)\n",
        "Agricultura=limitar_atipicos(Agricultura, lista_columnas)\n",
        "Agricultura=Agricultura.reset_index()"
      ],
      "metadata": {
        "id": "pMPnPS8kXaZI"
      },
      "execution_count": 9,
      "outputs": []
    },
    {
      "cell_type": "code",
      "source": [
        "# Dato de internet por municipio (Clasificación: ok)\n",
        "archivo_csv = 'https://drive.google.com/uc?export=download&id=1_RlmOEByjtf5LZZLvijGvExy1UzpgqJt'\n",
        "Internet = pd.read_csv(archivo_csv, sep=';', encoding='latin-1')\n",
        "Internet=Internet[['COD_MUNICIPIO','Indice_internet_2020']]\n",
        "Internet = Internet.fillna(0)"
      ],
      "metadata": {
        "id": "WJ0pG9W6XeE3"
      },
      "execution_count": 10,
      "outputs": []
    },
    {
      "cell_type": "code",
      "source": [
        "#Seguridad por Municipio (Clasificación: ok)\n",
        "\n",
        "archivo_csv = 'https://drive.google.com/uc?export=download&id=15rEU68edXPCII2V8m73tGph-B7b73nJs'\n",
        "Seguridad_cat = pd.read_csv(archivo_csv, sep=',')\n",
        "Seguridad_cat.fillna(1)\n",
        "Seguridad_cat = Seguridad_cat.replace(to_replace=0, value=1)\n",
        "columnas_like=['Seguridad_Abigeato_', 'Seguridad_Amenazas_', 'Seguridad_Delitos_Sexuales_', 'Seguridad_Extorsion_', 'Seguridad_homicidios_', 'Seguridad_T_Hurto_', 'Seguridad_hurto_a_comercio_',\n",
        " 'Seguridad_T_homicidios_en_accidente_de_transito_', 'Seguridad_hurto_a_entidades_financieras_', 'Seguridad_hurto_a_residencias_', 'Seguridad_Hurto_Motocicleta_',\n",
        " 'Seguridad_Lensiones_accidente_Transito_', 'Seguridad_lesiones_personales_', 'Seguridad_pirateria_terrestre_']\n",
        "\n",
        "\n",
        "Seguridad_cat.rename(columns={'Id_Municipio_Dane': 'Codigo'}, inplace=True) #Cambio de nombre de columna\n",
        "columna_puntual = Seguridad_cat['Codigo']\n",
        "Seguridad_cat_2=pd.DataFrame(Seguridad_cat['Codigo'])\n",
        "\n",
        "for columna in columnas_like:\n",
        "    Fiscal_Temp=Seguridad_cat.filter(like=columna).copy()\n",
        "    Fiscal_Temp['Codigo']=columna_puntual\n",
        "    temp=pd.DataFrame(year_columnas(Fiscal_Temp, columna,'Codigo',2010,2012,2018,2020)['Industria'])\n",
        "    Seguridad_cat_2[columna]=temp['Industria']\n",
        "Seguridad_cat=Seguridad_cat_2\n",
        "Seguridad_cat_2=[]\n",
        "\n",
        "archivo_csv = 'https://drive.google.com/uc?export=download&id=148yrW8j8ePSXUqr8g39N_ghKYzx6DHhh'\n",
        "Seguridad_total = pd.read_csv(archivo_csv, sep=',')\n",
        "\n",
        "Seguridad_total.fillna(1)\n",
        "Seguridad_total = Seguridad_total.replace(to_replace=0, value=1)\n",
        "columnas_like=['Seguridad_']\n",
        "Seguridad_total.rename(columns={'Id_Municipio_Dane': 'Codigo'}, inplace=True) #Cambio de nombre de columna\n",
        "columna_puntual = Seguridad_total['Codigo']\n",
        "Seguridad_total_2=pd.DataFrame(Seguridad_total['Codigo'])\n",
        "\n",
        "for columna in columnas_like:\n",
        "    Fiscal_Temp=Seguridad_total.filter(like=columna).copy()\n",
        "    Fiscal_Temp['Codigo']=columna_puntual\n",
        "    temp=pd.DataFrame(year_columnas(Fiscal_Temp, columna,'Codigo',2010,2012,2018,2020)['Industria'])\n",
        "    Seguridad_total_2[columna]=temp['Industria']\n",
        "Seguridad_total=Seguridad_total_2\n",
        "Seguridad_total_2=[]\n",
        "\n",
        "#archivo_csv = 'https://drive.google.com/uc?export=download&id=1h_UyaqBznDchxi6BREuR5SJYIZSdcsyZ'\n",
        "#Seguridad_genero = pd.read_csv(archivo_csv, sep=',')"
      ],
      "metadata": {
        "id": "sI0uINcuWzz8"
      },
      "execution_count": 11,
      "outputs": []
    },
    {
      "cell_type": "code",
      "source": [
        "#Turismo por municipio (Clasificación: ok)\n",
        "archivo_csv = 'https://drive.google.com/uc?export=download&id=1Oi4u9yHS7lwDZhD2UhlR0eJHs1cChKgx'\n",
        "Turismo= pd.read_csv(archivo_csv, sep=';', encoding='latin-1')\n",
        "Turismo = Turismo.fillna(0)"
      ],
      "metadata": {
        "id": "NRr9PTjJW7GM"
      },
      "execution_count": 12,
      "outputs": []
    },
    {
      "cell_type": "code",
      "source": [
        "#Ingresos por Banca (Clasificación: ok)\n",
        "archivo_csv = 'https://drive.google.com/uc?export=download&id=1DhjRoW8k3sYuD32Sj_yKsfUDPSUKDPYl'\n",
        "Bancos= pd.read_csv(archivo_csv, sep=';',)\n",
        "Bancos = eliminar_filas_nan(Bancos, 'Etiquetas de fila')\n",
        "Bancos = cambiar_numeros_menores(Bancos, 100, 'Etiquetas de fila')\n",
        "Bancos=year_columnas(Bancos, 'Bancos_','Etiquetas de fila',2008,2010,2018,2020)"
      ],
      "metadata": {
        "id": "o2-tQPviXJjB"
      },
      "execution_count": 13,
      "outputs": []
    },
    {
      "cell_type": "code",
      "source": [
        "#Ingresos Industria y Comercio (Clasificación: ok)\n",
        "archivo_csv = 'https://drive.google.com/uc?export=download&id=1fRK0My402q1VQkbZq62UOh1ssZTIIoH6'\n",
        "Industria= pd.read_csv(archivo_csv, sep=';')\n",
        "Industria = eliminar_filas_nan(Industria, 'Codigo')\n",
        "Industria = cambiar_numeros_menores(Industria, 100, 'Codigo')\n",
        "Industria=year_columnas(Industria, 'Industria_Comercio_','Codigo',2008,2010,2018,2020)"
      ],
      "metadata": {
        "id": "JGAR2aBkXMIe"
      },
      "execution_count": null,
      "outputs": []
    },
    {
      "cell_type": "code",
      "source": [
        "#Desempeño_Fiscal (Clasificación: ok)\n",
        "archivo_csv = 'https://drive.google.com/uc?export=download&id=13ggqFSiTvguqmKx7IX6J3Ia6Q9ktM_Cn'\n",
        "Fiscal= pd.read_csv(archivo_csv, sep=';')\n",
        "\n",
        "\n",
        "columnas_like=['Fiscal_Autofinanciacion_','Fiscal_Dependencia_Nación_','Fiscal_Generación_Recursos_','Fiscal_Magnitud_Iinversión_','Fiscal_Capacidad_ahorro_','Fiscal_Indicador_desempeño_Fiscal_']\n",
        "columna_puntual = Fiscal['Código']\n",
        "Fiscal_2=pd.DataFrame(Fiscal['Código'])\n",
        "\n",
        "for columna in columnas_like:\n",
        "    Fiscal_Temp=Fiscal.filter(like=columna).copy()\n",
        "    Fiscal_Temp['Código']=columna_puntual\n",
        "    temp=pd.DataFrame(year_columnas(Fiscal_Temp, columna,'Código',2008,2010,2017,2018)['Industria'])\n",
        "    Fiscal_2[columna]=temp['Industria']\n"
      ],
      "metadata": {
        "id": "-yUye42880kY"
      },
      "execution_count": 22,
      "outputs": []
    },
    {
      "cell_type": "code",
      "source": [
        "#Cerca_Ciudades (Clasificación: ok)\n",
        "archivo_csv = 'https://drive.google.com/uc?export=download&id=1TDJYfmPvz1j9hR4fPUjKxQk-8j-yBtoV'\n",
        "Ciudad= pd.read_csv(archivo_csv, sep=';')\n",
        "columns_to_dummy=['Ciudad_Ley_617','Ciudad_Cerca_Ciudad','Ciudades_Capitales']\n",
        "Ciudad=crear_dummies(Ciudad, columns_to_dummy)\n"
      ],
      "metadata": {
        "id": "jr8Ob_vO1Xlg"
      },
      "execution_count": 25,
      "outputs": []
    },
    {
      "cell_type": "code",
      "source": [
        "#Probreza (Clasificación: ok)\n",
        "archivo_csv = 'https://drive.google.com/uc?export=download&id=1zKt6krij1NhTHzi7LyXweJtbqSSolxM2'\n",
        "Pobreza_Total= pd.read_csv(archivo_csv, sep=';')\n",
        "columnas_like=['Pobreza_Total_','Pobreza_Cabeceras_','Pobreza_Rural_']\n",
        "columna_puntual = Pobreza_Total['Codigo']\n",
        "Pobreza_Total_2=pd.DataFrame(Pobreza_Total['Codigo'])\n",
        "\n",
        "for columna in columnas_like:\n",
        "    Fiscal_Temp=Pobreza_Total.filter(like=columna).copy()\n",
        "    Fiscal_Temp['Codigo']=columna_puntual\n",
        "    temp=pd.DataFrame(year_columnas(Fiscal_Temp, columna,'Codigo',2008,2008,2018,2018)['Industria'])\n",
        "    Pobreza_Total_2[columna]=temp['Industria']\n",
        "Pobreza_Total=Pobreza_Total_2\n",
        "Pobreza_Total_2=[]\n",
        "\n",
        "archivo_csv = 'https://drive.google.com/uc?export=download&id=1FLBP6ZKATfgYRl_pBk7FzY4UjDe4WWqM'\n",
        "Pobreza_Detalle= pd.read_csv(archivo_csv, sep=';')\n",
        "\n",
        "columnas_like=['Probreza_Analfabetismo_', 'Probreza_Bajo logro educativo_', 'Probreza_Barreras a servicios para cuidado de la primera infancia_', 'Probreza_Barreras de acceso a servicios de salud_',\n",
        " 'Probreza_Tasa de dependecia económica_', 'Probreza_Hacinamiento crítico_', 'Probreza_Inadecuada eliminación de excretas_', 'Probreza_Inasistencia escolar_', 'Probreza_Material inadecuado de paredes exteriores_', 'Probreza_Material inadecuado de pisos_', 'Probreza_Rezago escolar_', 'Probreza_Sin acceso a fuente de agua mejorada_', 'Probreza_Sin aseguramiento en salud_', 'Probreza_Trabajo infantil_', 'Probreza_Trabajo informal_']\n",
        "\n",
        "columna_puntual = Pobreza_Detalle['Codigo']\n",
        "Pobreza_Detalle_2=pd.DataFrame(Pobreza_Detalle['Codigo'])\n",
        "\n",
        "for columna in columnas_like:\n",
        "    Fiscal_Temp=Pobreza_Detalle.filter(like=columna).copy()\n",
        "    Fiscal_Temp['Codigo']=columna_puntual\n",
        "    temp=pd.DataFrame(year_columnas(Fiscal_Temp, columna,'Codigo',2008,2008,2018,2018)['Industria'])\n",
        "    Pobreza_Detalle_2[columna]=temp['Industria']\n",
        "Pobreza_Detalle=Pobreza_Detalle_2\n",
        "Pobreza_Detalle_2=[]"
      ],
      "metadata": {
        "id": "AS3oYNgJ9Aag"
      },
      "execution_count": 29,
      "outputs": []
    },
    {
      "cell_type": "code",
      "source": [
        "#Educacion (Clasificación: ok)\n",
        "archivo_csv = 'https://drive.google.com/uc?export=download&id=1kyeKQcaFKBzf9OSxaD9LQ2AMbOZz17f9'\n",
        "Educacion= pd.read_csv(archivo_csv, sep=';')\n"
      ],
      "metadata": {
        "id": "r6bsshKXz5I8"
      },
      "execution_count": 33,
      "outputs": []
    },
    {
      "cell_type": "code",
      "source": [
        "#Automotores (Clasificación: ok) ingreso por pago de autos\n",
        "archivo_csv = 'https://drive.google.com/uc?export=download&id=1tdw20Uh2QQKETgWzGBwu9vygsxn3zaMT'\n",
        "Autos= pd.read_csv(archivo_csv, sep=';',)\n",
        "Autos = eliminar_filas_nan(Autos, 'Codigo')\n",
        "Autos = cambiar_numeros_menores(Autos, 100, 'Codigo')\n",
        "Autos=year_columnas(Autos, 'Autos_','Codigo',2008,2010,2018,2020)\n"
      ],
      "metadata": {
        "id": "cc0LoW5--luD"
      },
      "execution_count": 35,
      "outputs": []
    },
    {
      "cell_type": "code",
      "source": [
        "#Descripcion_Predios (Clasificación: ok)\n",
        "archivo_csv = 'https://drive.google.com/uc?export=download&id=17SX1r3FRC0C7Zsl8AyEm7RQ0zZ2UTIJa'\n",
        "Lotes= pd.read_csv(archivo_csv, sep=',',)\n",
        "Lotes = Lotes.fillna(0)"
      ],
      "metadata": {
        "id": "DTtTyc-P-o-s"
      },
      "execution_count": 37,
      "outputs": []
    },
    {
      "cell_type": "code",
      "source": [
        "#Terridata  (Clasificación: ok)\n",
        "\n",
        "##Proceso se corrió y por tiempo de ejecución se cargó procesamiento de el dive\n",
        "#archivo_csv = 'https://drive.google.com/uc?export=download&id=1_OA8ZG4ct75lERCJ19pEZ6BMWkR5yhiT'\n",
        "#Terridata_Class= pd.read_csv(archivo_csv, sep=',',)\n",
        "#Terridata_Class=Terridata_Class.replace(0, np.nan)\n",
        "#columnas_a_eliminar = Terridata_Class.columns[Terridata_Class.isna().all()]\n",
        "#Terridata_Class= Terridata_Class.drop(columnas_a_eliminar, axis=1)\n",
        "\n",
        "#completa datos por interpolación, se demora 14 minutos en correr\n",
        "#Terridata_Class=completar_datos_serie_tiempo(Terridata_Class,2008,2020)\n",
        "\n",
        "\n",
        "#ruta_archivo = '/content/drive/My Drive/4_Proyect_Final/1_Datos/Terridata_Class_interpolada.csv'\n",
        "#Terridata_Class.to_csv(ruta_archivo, index=False)\n",
        "\n",
        "\n",
        "archivo_csv = 'https://drive.google.com/uc?export=download&id=1z-XajNX0Ia_BvcTT4hL3R39ySUCW7rTQ'\n",
        "Terridata_Class= pd.read_csv(archivo_csv, sep=',',)\n",
        "\n",
        "lista_columnas = [col for col in Terridata_Class.columns.tolist() if col not in ['Year', 'Category']]\n",
        "Terridata_Class.rename(columns={'Category': 'Municipio'}, inplace=True)\n",
        "Terridata_Class=calcular_crecimiento_promedio_por_categoria(Terridata_Class, lista_columnas, 2008, 2010, 2018, 2020)\n",
        "\n",
        "columnas_a_eliminar = Terridata_Class.columns[Terridata_Class.isna().all()]\n",
        "Terridata_Class= Terridata_Class.drop(columnas_a_eliminar, axis=1)\n",
        "Terridata_Class= Terridata_Class.fillna(0)\n",
        "\n",
        "Terridata_Class = Terridata_Class.drop('Municipio', axis=1)\n",
        "Terridata_Class = Terridata_Class.reset_index()\n"
      ],
      "metadata": {
        "id": "_EGspten6wWM"
      },
      "execution_count": null,
      "outputs": []
    },
    {
      "cell_type": "code",
      "source": [
        "Cat_Clasificiacion.rename(columns={'CODIGO_DANE': 'Id_Municipio_Dane'}, inplace=True)\n",
        "IPS.rename(columns={'ID_Municipio': 'Id_Municipio_Dane'}, inplace=True)\n",
        "Agricultura.rename(columns={'index': 'Id_Municipio_Dane'}, inplace=True)\n",
        "Internet.rename(columns={'COD_MUNICIPIO': 'Id_Municipio_Dane'}, inplace=True)\n",
        "Seguridad_cat.rename(columns={'Codigo': 'Id_Municipio_Dane'}, inplace=True)\n",
        "Seguridad_total.rename(columns={'Codigo': 'Id_Municipio_Dane'}, inplace=True)\n",
        "Turismo.rename(columns={'id_dane_municipio': 'Id_Municipio_Dane'}, inplace=True)\n",
        "Bancos.rename(columns={'Municipio': 'Id_Municipio_Dane'}, inplace=True)\n",
        "Industria.rename(columns={'Municipio': 'Id_Municipio_Dane'}, inplace=True)\n",
        "Fiscal_2.rename(columns={'Código': 'Id_Municipio_Dane'}, inplace=True)\n",
        "Ciudad.rename(columns={'Código': 'Id_Municipio_Dane'}, inplace=True)\n",
        "Pobreza_Total.rename(columns={'Codigo': 'Id_Municipio_Dane'}, inplace=True)\n",
        "Pobreza_Detalle.rename(columns={'Codigo': 'Id_Municipio_Dane'}, inplace=True)\n",
        "Educacion.rename(columns={'Codigo': 'Id_Municipio_Dane'}, inplace=True)\n",
        "Autos.rename(columns={'Municipio': 'Id_Municipio_Dane'}, inplace=True)\n",
        "Lotes.rename(columns={'Id_Municipio_Dane': 'Id_Municipio_Dane'}, inplace=True)\n",
        "Terridata_Class.rename(columns={'index': 'Id_Municipio_Dane'}, inplace=True)"
      ],
      "metadata": {
        "id": "NMOOv87zuiRx"
      },
      "execution_count": null,
      "outputs": []
    },
    {
      "cell_type": "markdown",
      "source": [
        "#4. Cargar Datos Regresión"
      ],
      "metadata": {
        "id": "f0fM9hY5A8s_"
      }
    },
    {
      "cell_type": "markdown",
      "source": [
        "para trabajar en regresión\n",
        "1. info agricola\n",
        "2. seguridad\n",
        "3. Bancos\n",
        "4. industria\n",
        "5. desempeño_fiscal\n",
        "6. cerca a ciudaes\n",
        "7. Educación\n",
        "8.  Autos"
      ],
      "metadata": {
        "id": "HAP31BNp-9rq"
      }
    },
    {
      "cell_type": "code",
      "source": [
        "#Terridata\n",
        "archivo_csv = 'https://drive.google.com/uc?export=download&id=1_OA8ZG4ct75lERCJ19pEZ6BMWkR5yhiT'\n",
        "Terridata= pd.read_csv(archivo_csv, sep=',',)\n"
      ],
      "metadata": {
        "id": "DXhVGpbd-u_-"
      },
      "execution_count": null,
      "outputs": []
    },
    {
      "cell_type": "code",
      "source": [
        "#Ceracion de columna objetivo, crecimeinto 3 años en el futoro\n",
        "columnas_a_eliminar = ['NOMBRE_ENTIDAD']\n",
        "Predial_df=Predial_Transpuesto.drop(columnas_a_eliminar, axis=1)\n",
        "Predial_Y = calcular_crecimiento_ingresos(Predial_df,3,'CODIGO_DANE','Predial','Año')"
      ],
      "metadata": {
        "id": "oEvbSJd3M1wE"
      },
      "execution_count": null,
      "outputs": []
    },
    {
      "cell_type": "code",
      "source": [
        "# Creacion columna mes anterior de predial\n",
        "columnas_a_eliminar = ['NOMBRE_ENTIDAD']\n",
        "Predial_df=Predial_Transpuesto.drop(columnas_a_eliminar, axis=1)\n",
        "Predial_mes_anterior = calcular_crecimiento_ingresos(Predial_df,-1,'CODIGO_DANE','Predial','Año')\n",
        "Predial_mes_anterior = Predial_mes_anterior.rename(columns={'Crecimiento': 'Crecimiento_mes_anterior'})\n",
        "\n",
        "# Creacion columna 2 meses atras de predial\n",
        "columnas_a_eliminar = ['NOMBRE_ENTIDAD']\n",
        "Predial_df=Predial_Transpuesto.drop(columnas_a_eliminar, axis=1)\n",
        "Predial_mes_anterior_2 = calcular_crecimiento_ingresos(Predial_df,-2,'CODIGO_DANE','Predial','Año')\n",
        "Predial_mes_anterior_2 = Predial_mes_anterior_2.rename(columns={'Crecimiento': 'Crecimiento_mes_anterior_2'})\n",
        "\n",
        "# Creacion columna 3 meses atras de predial\n",
        "columnas_a_eliminar = ['NOMBRE_ENTIDAD']\n",
        "Predial_df=Predial_Transpuesto.drop(columnas_a_eliminar, axis=1)\n",
        "Predial_mes_anterior_3 = calcular_crecimiento_ingresos(Predial_df,-3,'CODIGO_DANE','Predial','Año')\n",
        "Predial_mes_anterior_3 = Predial_mes_anterior_3.rename(columns={'Crecimiento': 'Crecimiento_mes_anterior_3'})\n"
      ],
      "metadata": {
        "id": "4IYwbZYLQVfI"
      },
      "execution_count": null,
      "outputs": []
    },
    {
      "cell_type": "code",
      "source": [
        "nombres_columnas = Terridata.columns.tolist()\n",
        "nombres_columnas = pd.DataFrame(nombres_columnas)\n"
      ],
      "metadata": {
        "id": "DTNj8cveu0WV"
      },
      "execution_count": null,
      "outputs": []
    },
    {
      "cell_type": "code",
      "source": [
        "Desempeno_Seguridad"
      ],
      "metadata": {
        "id": "YlCOkgpjzSUS"
      },
      "execution_count": null,
      "outputs": []
    },
    {
      "cell_type": "code",
      "source": [
        "Economia_ind_manufacturera\n",
        "Economia_construccion\n",
        "Finanzas_%gasto_total_inversion\n",
        "Desempeno_Salud\n",
        "Censo_pob_urbana\n",
        "Economia_Primer_Cultivo_permanente(dumi)\n",
        "Finanzas_agua\n",
        "OT_Avaluo_catastral_total\n",
        "OT_Total_predios\n",
        "OT_Valorizacion"
      ],
      "metadata": {
        "id": "zdglc-g0zQVS"
      },
      "execution_count": null,
      "outputs": []
    },
    {
      "cell_type": "markdown",
      "source": [
        "##4. Creación Base 0 Clasificación"
      ],
      "metadata": {
        "id": "Lltr3iRAVrai"
      }
    },
    {
      "cell_type": "markdown",
      "source": [
        "### 4.1. Unir data frames de categorización"
      ],
      "metadata": {
        "id": "-6nFHBc7VWo8"
      }
    },
    {
      "cell_type": "code",
      "source": [
        "#Quitar tildes de nomblre de municio\n",
        "df['Nombre_Municipio'] = df['Nombre_Municipio'].apply(quitar_tildes)"
      ],
      "metadata": {
        "id": "Y4pJ2jEMVmf9"
      },
      "execution_count": null,
      "outputs": []
    },
    {
      "cell_type": "code",
      "source": [
        "#Unir data sets Id_Municipio_Dane CODIGO_DANE\n",
        "\n",
        "df_unido=df.merge(Cat_Clasificiacion, on='Id_Municipio_Dane', how='inner')\n",
        "df_unido=df_unido.merge(IPS, on='Id_Municipio_Dane', how='left')\n",
        "df_unido=df_unido.merge(Agricultura, on='Id_Municipio_Dane', how='left')\n",
        "df_unido=df_unido.merge(Internet, on='Id_Municipio_Dane', how='left')\n",
        "df_unido=df_unido.merge(Seguridad_cat, on='Id_Municipio_Dane', how='left')\n",
        "df_unido=df_unido.merge(Seguridad_total, on='Id_Municipio_Dane', how='left')\n",
        "df_unido=df_unido.merge(Turismo, on='Id_Municipio_Dane', how='left')\n",
        "df_unido=df_unido.merge(Bancos, on='Id_Municipio_Dane', how='left')\n",
        "df_unido=df_unido.merge(Industria, on='Id_Municipio_Dane', how='left')\n",
        "df_unido=df_unido.merge(Fiscal_2, on='Id_Municipio_Dane', how='left')\n",
        "df_unido=df_unido.merge(Ciudad, on='Id_Municipio_Dane', how='left')\n",
        "df_unido=df_unido.merge(Pobreza_Total, on='Id_Municipio_Dane', how='left')\n",
        "df_unido=df_unido.merge(Pobreza_Detalle, on='Id_Municipio_Dane', how='left')\n",
        "df_unido=df_unido.merge(Educacion, on='Id_Municipio_Dane', how='left')\n",
        "df_unido=df_unido.merge(Autos, on='Id_Municipio_Dane', how='left')\n",
        "df_unido=df_unido.merge(Lotes, on='Id_Municipio_Dane', how='left')\n",
        "df_unido=df_unido.merge(Terridata_Class, on='Id_Municipio_Dane', how='left')\n",
        "#df_unido = df_unido.fillna(0)"
      ],
      "metadata": {
        "id": "2wpKCx8NUivM"
      },
      "execution_count": null,
      "outputs": []
    },
    {
      "cell_type": "code",
      "source": [
        "#Borrar columans con solo Nan (1979 columnas)\n",
        "columnas_a_eliminar = df_unido.columns[df_unido.isna().all()]\n",
        "df_unido= df_unido.drop(columnas_a_eliminar, axis=1)\n",
        "df_unido = df_unido.fillna(0)"
      ],
      "metadata": {
        "id": "AZj3hvjn3nkC"
      },
      "execution_count": null,
      "outputs": []
    },
    {
      "cell_type": "code",
      "source": [
        "non_numeric_variables = df_unido .select_dtypes(exclude=[np.number]).columns.tolist()\n",
        "non_numeric_variables"
      ],
      "metadata": {
        "colab": {
          "base_uri": "https://localhost:8080/"
        },
        "id": "3YmvH9d-UA50",
        "outputId": "81273e22-7bf7-4495-f2af-4c6ff7ef3ffd"
      },
      "execution_count": null,
      "outputs": [
        {
          "output_type": "execute_result",
          "data": {
            "text/plain": [
              "['Nombre_Municipio', 'Nombre_Departamento', 'recomendacion']"
            ]
          },
          "metadata": {},
          "execution_count": 169
        }
      ]
    },
    {
      "cell_type": "markdown",
      "source": [
        "###4.2. Normzalizar Varibles"
      ],
      "metadata": {
        "id": "yKCmhWSmVh7i"
      }
    },
    {
      "cell_type": "code",
      "source": [
        "# Normalizar variables\n",
        "lista_cat=['Id_Municipio_Dane','Nombre_Municipio','Id_Departamento_Dane','Nombre_Departamento','Predial','recomendacion']\n",
        "Categorias=df_unido [lista_cat]\n",
        "Normalizar=df_unido.drop(lista_cat, axis=1)\n",
        "df_unido_Normalizada=normalize_variables(Normalizar)\n",
        "df_unido_Normalizada=Categorias.join(df_unido_Normalizada)"
      ],
      "metadata": {
        "id": "1JeW_N-BUVcY"
      },
      "execution_count": null,
      "outputs": []
    },
    {
      "cell_type": "code",
      "source": [
        "df_unido_Normalizada"
      ],
      "metadata": {
        "colab": {
          "base_uri": "https://localhost:8080/",
          "height": 488
        },
        "id": "bhEApGHabo92",
        "outputId": "b20e8872-9ceb-44d8-de66-38246bf3049f"
      },
      "execution_count": null,
      "outputs": [
        {
          "output_type": "execute_result",
          "data": {
            "text/plain": [
              "      Id_Municipio_Dane Nombre_Municipio  Id_Departamento_Dane  \\\n",
              "0                  5001         Medellin                     5   \n",
              "1                  5002        Abejorral                     5   \n",
              "2                  5004         Abriaqui                     5   \n",
              "3                  5021       Alejandria                     5   \n",
              "4                  5030            Amaga                     5   \n",
              "...                 ...              ...                   ...   \n",
              "1097              97666          Taraira                    97   \n",
              "1098              99001   Puerto Carreno                    99   \n",
              "1099              99524     La Primavera                    99   \n",
              "1100              99624    Santa Rosalia                    99   \n",
              "1101              99773         Cumaribo                    99   \n",
              "\n",
              "     Nombre_Departamento      Predial recomendacion  IPS_Nivel_1  IPS_Nivel_2  \\\n",
              "0              Antioquia   133.859306         Media     0.153846         0.50   \n",
              "1              Antioquia   104.386980         Media     0.076923         0.00   \n",
              "2              Antioquia    92.937014         Media     0.000000         0.00   \n",
              "3              Antioquia   212.680226         Media     0.076923         0.00   \n",
              "4              Antioquia   192.535616         Media     0.076923         0.00   \n",
              "...                  ...          ...           ...          ...          ...   \n",
              "1097              Vaupés  1406.942589      Muy alta     0.000000         0.00   \n",
              "1098             Vichada   253.440132          Alta     0.000000         0.25   \n",
              "1099             Vichada  1493.291755      Muy alta     0.000000         0.00   \n",
              "1100             Vichada   763.878456      Muy alta     0.000000         0.00   \n",
              "1101             Vichada  1678.250983      Muy alta     0.000000         0.00   \n",
              "\n",
              "      IPS_Nivel_3  IPS_Clinica  ...  \\\n",
              "0        0.222222       0.3625  ...   \n",
              "1        0.000000       0.0000  ...   \n",
              "2        0.000000       0.0000  ...   \n",
              "3        0.000000       0.0000  ...   \n",
              "4        0.000000       0.0000  ...   \n",
              "...           ...          ...  ...   \n",
              "1097     0.000000       0.0000  ...   \n",
              "1098     0.000000       0.0000  ...   \n",
              "1099     0.000000       0.0000  ...   \n",
              "1100     0.000000       0.0000  ...   \n",
              "1101     0.000000       0.0000  ...   \n",
              "\n",
              "      vivienda_servicios_publicos_CoberturaEnergiaElectricaUrbanaCenso  \\\n",
              "0                                                   0.0                  \n",
              "1                                                   0.0                  \n",
              "2                                                   0.0                  \n",
              "3                                                   0.0                  \n",
              "4                                                   0.0                  \n",
              "...                                                 ...                  \n",
              "1097                                                0.0                  \n",
              "1098                                                0.0                  \n",
              "1099                                                0.0                  \n",
              "1100                                                0.0                  \n",
              "1101                                                0.0                  \n",
              "\n",
              "      vivienda_servicios_publicos_CoberturaGasNaturalCenso  \\\n",
              "0                                                   0.0      \n",
              "1                                                   0.0      \n",
              "2                                                   0.0      \n",
              "3                                                   0.0      \n",
              "4                                                   0.0      \n",
              "...                                                 ...      \n",
              "1097                                                0.0      \n",
              "1098                                                0.0      \n",
              "1099                                                0.0      \n",
              "1100                                                0.0      \n",
              "1101                                                0.0      \n",
              "\n",
              "      vivienda_servicios_publicos_CoberturaGasNaturalRuralCenso  \\\n",
              "0                                                   0.0           \n",
              "1                                                   0.0           \n",
              "2                                                   0.0           \n",
              "3                                                   0.0           \n",
              "4                                                   0.0           \n",
              "...                                                 ...           \n",
              "1097                                                0.0           \n",
              "1098                                                0.0           \n",
              "1099                                                0.0           \n",
              "1100                                                0.0           \n",
              "1101                                                0.0           \n",
              "\n",
              "      vivienda_servicios_publicos_CoberturaGasNaturalUrbanoCenso  \\\n",
              "0                                                   0.0            \n",
              "1                                                   0.0            \n",
              "2                                                   0.0            \n",
              "3                                                   0.0            \n",
              "4                                                   0.0            \n",
              "...                                                 ...            \n",
              "1097                                                0.0            \n",
              "1098                                                0.0            \n",
              "1099                                                0.0            \n",
              "1100                                                0.0            \n",
              "1101                                                0.0            \n",
              "\n",
              "      vivienda_servicios_publicos_CoberturaInternetCenso  \\\n",
              "0                                                   0.0    \n",
              "1                                                   0.0    \n",
              "2                                                   0.0    \n",
              "3                                                   0.0    \n",
              "4                                                   0.0    \n",
              "...                                                 ...    \n",
              "1097                                                0.0    \n",
              "1098                                                0.0    \n",
              "1099                                                0.0    \n",
              "1100                                                0.0    \n",
              "1101                                                0.0    \n",
              "\n",
              "      vivienda_servicios_publicos_CoberturaInternetRuralCenso  \\\n",
              "0                                                   0.0         \n",
              "1                                                   0.0         \n",
              "2                                                   0.0         \n",
              "3                                                   0.0         \n",
              "4                                                   0.0         \n",
              "...                                                 ...         \n",
              "1097                                                0.0         \n",
              "1098                                                0.0         \n",
              "1099                                                0.0         \n",
              "1100                                                0.0         \n",
              "1101                                                0.0         \n",
              "\n",
              "      vivienda_servicios_publicos_CoberturaInternetUrbanaCenso  \\\n",
              "0                                                   0.0          \n",
              "1                                                   0.0          \n",
              "2                                                   0.0          \n",
              "3                                                   0.0          \n",
              "4                                                   0.0          \n",
              "...                                                 ...          \n",
              "1097                                                0.0          \n",
              "1098                                                0.0          \n",
              "1099                                                0.0          \n",
              "1100                                                0.0          \n",
              "1101                                                0.0          \n",
              "\n",
              "      vivienda_servicios_publicos_DeficitCualitativoViviendaCenso  \\\n",
              "0                                                   0.0             \n",
              "1                                                   0.0             \n",
              "2                                                   0.0             \n",
              "3                                                   0.0             \n",
              "4                                                   0.0             \n",
              "...                                                 ...             \n",
              "1097                                                0.0             \n",
              "1098                                                0.0             \n",
              "1099                                                0.0             \n",
              "1100                                                0.0             \n",
              "1101                                                0.0             \n",
              "\n",
              "      vivienda_servicios_publicos_DeficitCuantitativoViviendaCenso  \\\n",
              "0                                                   0.0              \n",
              "1                                                   0.0              \n",
              "2                                                   0.0              \n",
              "3                                                   0.0              \n",
              "4                                                   0.0              \n",
              "...                                                 ...              \n",
              "1097                                                0.0              \n",
              "1098                                                0.0              \n",
              "1099                                                0.0              \n",
              "1100                                                0.0              \n",
              "1101                                                0.0              \n",
              "\n",
              "      vivienda_servicios_publicos_PenetracionBandaAncha  \n",
              "0                                              0.003260  \n",
              "1                                              0.026511  \n",
              "2                                              0.004336  \n",
              "3                                              0.004397  \n",
              "4                                              0.004852  \n",
              "...                                                 ...  \n",
              "1097                                           0.000118  \n",
              "1098                                           0.037458  \n",
              "1099                                           0.001127  \n",
              "1100                                           0.000000  \n",
              "1101                                           0.001972  \n",
              "\n",
              "[1102 rows x 1971 columns]"
            ],
            "text/html": [
              "\n",
              "\n",
              "  <div id=\"df-74ec41e7-3073-49b7-9b0d-af27a02d96c6\">\n",
              "    <div class=\"colab-df-container\">\n",
              "      <div>\n",
              "<style scoped>\n",
              "    .dataframe tbody tr th:only-of-type {\n",
              "        vertical-align: middle;\n",
              "    }\n",
              "\n",
              "    .dataframe tbody tr th {\n",
              "        vertical-align: top;\n",
              "    }\n",
              "\n",
              "    .dataframe thead th {\n",
              "        text-align: right;\n",
              "    }\n",
              "</style>\n",
              "<table border=\"1\" class=\"dataframe\">\n",
              "  <thead>\n",
              "    <tr style=\"text-align: right;\">\n",
              "      <th></th>\n",
              "      <th>Id_Municipio_Dane</th>\n",
              "      <th>Nombre_Municipio</th>\n",
              "      <th>Id_Departamento_Dane</th>\n",
              "      <th>Nombre_Departamento</th>\n",
              "      <th>Predial</th>\n",
              "      <th>recomendacion</th>\n",
              "      <th>IPS_Nivel_1</th>\n",
              "      <th>IPS_Nivel_2</th>\n",
              "      <th>IPS_Nivel_3</th>\n",
              "      <th>IPS_Clinica</th>\n",
              "      <th>...</th>\n",
              "      <th>vivienda_servicios_publicos_CoberturaEnergiaElectricaUrbanaCenso</th>\n",
              "      <th>vivienda_servicios_publicos_CoberturaGasNaturalCenso</th>\n",
              "      <th>vivienda_servicios_publicos_CoberturaGasNaturalRuralCenso</th>\n",
              "      <th>vivienda_servicios_publicos_CoberturaGasNaturalUrbanoCenso</th>\n",
              "      <th>vivienda_servicios_publicos_CoberturaInternetCenso</th>\n",
              "      <th>vivienda_servicios_publicos_CoberturaInternetRuralCenso</th>\n",
              "      <th>vivienda_servicios_publicos_CoberturaInternetUrbanaCenso</th>\n",
              "      <th>vivienda_servicios_publicos_DeficitCualitativoViviendaCenso</th>\n",
              "      <th>vivienda_servicios_publicos_DeficitCuantitativoViviendaCenso</th>\n",
              "      <th>vivienda_servicios_publicos_PenetracionBandaAncha</th>\n",
              "    </tr>\n",
              "  </thead>\n",
              "  <tbody>\n",
              "    <tr>\n",
              "      <th>0</th>\n",
              "      <td>5001</td>\n",
              "      <td>Medellin</td>\n",
              "      <td>5</td>\n",
              "      <td>Antioquia</td>\n",
              "      <td>133.859306</td>\n",
              "      <td>Media</td>\n",
              "      <td>0.153846</td>\n",
              "      <td>0.50</td>\n",
              "      <td>0.222222</td>\n",
              "      <td>0.3625</td>\n",
              "      <td>...</td>\n",
              "      <td>0.0</td>\n",
              "      <td>0.0</td>\n",
              "      <td>0.0</td>\n",
              "      <td>0.0</td>\n",
              "      <td>0.0</td>\n",
              "      <td>0.0</td>\n",
              "      <td>0.0</td>\n",
              "      <td>0.0</td>\n",
              "      <td>0.0</td>\n",
              "      <td>0.003260</td>\n",
              "    </tr>\n",
              "    <tr>\n",
              "      <th>1</th>\n",
              "      <td>5002</td>\n",
              "      <td>Abejorral</td>\n",
              "      <td>5</td>\n",
              "      <td>Antioquia</td>\n",
              "      <td>104.386980</td>\n",
              "      <td>Media</td>\n",
              "      <td>0.076923</td>\n",
              "      <td>0.00</td>\n",
              "      <td>0.000000</td>\n",
              "      <td>0.0000</td>\n",
              "      <td>...</td>\n",
              "      <td>0.0</td>\n",
              "      <td>0.0</td>\n",
              "      <td>0.0</td>\n",
              "      <td>0.0</td>\n",
              "      <td>0.0</td>\n",
              "      <td>0.0</td>\n",
              "      <td>0.0</td>\n",
              "      <td>0.0</td>\n",
              "      <td>0.0</td>\n",
              "      <td>0.026511</td>\n",
              "    </tr>\n",
              "    <tr>\n",
              "      <th>2</th>\n",
              "      <td>5004</td>\n",
              "      <td>Abriaqui</td>\n",
              "      <td>5</td>\n",
              "      <td>Antioquia</td>\n",
              "      <td>92.937014</td>\n",
              "      <td>Media</td>\n",
              "      <td>0.000000</td>\n",
              "      <td>0.00</td>\n",
              "      <td>0.000000</td>\n",
              "      <td>0.0000</td>\n",
              "      <td>...</td>\n",
              "      <td>0.0</td>\n",
              "      <td>0.0</td>\n",
              "      <td>0.0</td>\n",
              "      <td>0.0</td>\n",
              "      <td>0.0</td>\n",
              "      <td>0.0</td>\n",
              "      <td>0.0</td>\n",
              "      <td>0.0</td>\n",
              "      <td>0.0</td>\n",
              "      <td>0.004336</td>\n",
              "    </tr>\n",
              "    <tr>\n",
              "      <th>3</th>\n",
              "      <td>5021</td>\n",
              "      <td>Alejandria</td>\n",
              "      <td>5</td>\n",
              "      <td>Antioquia</td>\n",
              "      <td>212.680226</td>\n",
              "      <td>Media</td>\n",
              "      <td>0.076923</td>\n",
              "      <td>0.00</td>\n",
              "      <td>0.000000</td>\n",
              "      <td>0.0000</td>\n",
              "      <td>...</td>\n",
              "      <td>0.0</td>\n",
              "      <td>0.0</td>\n",
              "      <td>0.0</td>\n",
              "      <td>0.0</td>\n",
              "      <td>0.0</td>\n",
              "      <td>0.0</td>\n",
              "      <td>0.0</td>\n",
              "      <td>0.0</td>\n",
              "      <td>0.0</td>\n",
              "      <td>0.004397</td>\n",
              "    </tr>\n",
              "    <tr>\n",
              "      <th>4</th>\n",
              "      <td>5030</td>\n",
              "      <td>Amaga</td>\n",
              "      <td>5</td>\n",
              "      <td>Antioquia</td>\n",
              "      <td>192.535616</td>\n",
              "      <td>Media</td>\n",
              "      <td>0.076923</td>\n",
              "      <td>0.00</td>\n",
              "      <td>0.000000</td>\n",
              "      <td>0.0000</td>\n",
              "      <td>...</td>\n",
              "      <td>0.0</td>\n",
              "      <td>0.0</td>\n",
              "      <td>0.0</td>\n",
              "      <td>0.0</td>\n",
              "      <td>0.0</td>\n",
              "      <td>0.0</td>\n",
              "      <td>0.0</td>\n",
              "      <td>0.0</td>\n",
              "      <td>0.0</td>\n",
              "      <td>0.004852</td>\n",
              "    </tr>\n",
              "    <tr>\n",
              "      <th>...</th>\n",
              "      <td>...</td>\n",
              "      <td>...</td>\n",
              "      <td>...</td>\n",
              "      <td>...</td>\n",
              "      <td>...</td>\n",
              "      <td>...</td>\n",
              "      <td>...</td>\n",
              "      <td>...</td>\n",
              "      <td>...</td>\n",
              "      <td>...</td>\n",
              "      <td>...</td>\n",
              "      <td>...</td>\n",
              "      <td>...</td>\n",
              "      <td>...</td>\n",
              "      <td>...</td>\n",
              "      <td>...</td>\n",
              "      <td>...</td>\n",
              "      <td>...</td>\n",
              "      <td>...</td>\n",
              "      <td>...</td>\n",
              "      <td>...</td>\n",
              "    </tr>\n",
              "    <tr>\n",
              "      <th>1097</th>\n",
              "      <td>97666</td>\n",
              "      <td>Taraira</td>\n",
              "      <td>97</td>\n",
              "      <td>Vaupés</td>\n",
              "      <td>1406.942589</td>\n",
              "      <td>Muy alta</td>\n",
              "      <td>0.000000</td>\n",
              "      <td>0.00</td>\n",
              "      <td>0.000000</td>\n",
              "      <td>0.0000</td>\n",
              "      <td>...</td>\n",
              "      <td>0.0</td>\n",
              "      <td>0.0</td>\n",
              "      <td>0.0</td>\n",
              "      <td>0.0</td>\n",
              "      <td>0.0</td>\n",
              "      <td>0.0</td>\n",
              "      <td>0.0</td>\n",
              "      <td>0.0</td>\n",
              "      <td>0.0</td>\n",
              "      <td>0.000118</td>\n",
              "    </tr>\n",
              "    <tr>\n",
              "      <th>1098</th>\n",
              "      <td>99001</td>\n",
              "      <td>Puerto Carreno</td>\n",
              "      <td>99</td>\n",
              "      <td>Vichada</td>\n",
              "      <td>253.440132</td>\n",
              "      <td>Alta</td>\n",
              "      <td>0.000000</td>\n",
              "      <td>0.25</td>\n",
              "      <td>0.000000</td>\n",
              "      <td>0.0000</td>\n",
              "      <td>...</td>\n",
              "      <td>0.0</td>\n",
              "      <td>0.0</td>\n",
              "      <td>0.0</td>\n",
              "      <td>0.0</td>\n",
              "      <td>0.0</td>\n",
              "      <td>0.0</td>\n",
              "      <td>0.0</td>\n",
              "      <td>0.0</td>\n",
              "      <td>0.0</td>\n",
              "      <td>0.037458</td>\n",
              "    </tr>\n",
              "    <tr>\n",
              "      <th>1099</th>\n",
              "      <td>99524</td>\n",
              "      <td>La Primavera</td>\n",
              "      <td>99</td>\n",
              "      <td>Vichada</td>\n",
              "      <td>1493.291755</td>\n",
              "      <td>Muy alta</td>\n",
              "      <td>0.000000</td>\n",
              "      <td>0.00</td>\n",
              "      <td>0.000000</td>\n",
              "      <td>0.0000</td>\n",
              "      <td>...</td>\n",
              "      <td>0.0</td>\n",
              "      <td>0.0</td>\n",
              "      <td>0.0</td>\n",
              "      <td>0.0</td>\n",
              "      <td>0.0</td>\n",
              "      <td>0.0</td>\n",
              "      <td>0.0</td>\n",
              "      <td>0.0</td>\n",
              "      <td>0.0</td>\n",
              "      <td>0.001127</td>\n",
              "    </tr>\n",
              "    <tr>\n",
              "      <th>1100</th>\n",
              "      <td>99624</td>\n",
              "      <td>Santa Rosalia</td>\n",
              "      <td>99</td>\n",
              "      <td>Vichada</td>\n",
              "      <td>763.878456</td>\n",
              "      <td>Muy alta</td>\n",
              "      <td>0.000000</td>\n",
              "      <td>0.00</td>\n",
              "      <td>0.000000</td>\n",
              "      <td>0.0000</td>\n",
              "      <td>...</td>\n",
              "      <td>0.0</td>\n",
              "      <td>0.0</td>\n",
              "      <td>0.0</td>\n",
              "      <td>0.0</td>\n",
              "      <td>0.0</td>\n",
              "      <td>0.0</td>\n",
              "      <td>0.0</td>\n",
              "      <td>0.0</td>\n",
              "      <td>0.0</td>\n",
              "      <td>0.000000</td>\n",
              "    </tr>\n",
              "    <tr>\n",
              "      <th>1101</th>\n",
              "      <td>99773</td>\n",
              "      <td>Cumaribo</td>\n",
              "      <td>99</td>\n",
              "      <td>Vichada</td>\n",
              "      <td>1678.250983</td>\n",
              "      <td>Muy alta</td>\n",
              "      <td>0.000000</td>\n",
              "      <td>0.00</td>\n",
              "      <td>0.000000</td>\n",
              "      <td>0.0000</td>\n",
              "      <td>...</td>\n",
              "      <td>0.0</td>\n",
              "      <td>0.0</td>\n",
              "      <td>0.0</td>\n",
              "      <td>0.0</td>\n",
              "      <td>0.0</td>\n",
              "      <td>0.0</td>\n",
              "      <td>0.0</td>\n",
              "      <td>0.0</td>\n",
              "      <td>0.0</td>\n",
              "      <td>0.001972</td>\n",
              "    </tr>\n",
              "  </tbody>\n",
              "</table>\n",
              "<p>1102 rows × 1971 columns</p>\n",
              "</div>\n",
              "      <button class=\"colab-df-convert\" onclick=\"convertToInteractive('df-74ec41e7-3073-49b7-9b0d-af27a02d96c6')\"\n",
              "              title=\"Convert this dataframe to an interactive table.\"\n",
              "              style=\"display:none;\">\n",
              "\n",
              "  <svg xmlns=\"http://www.w3.org/2000/svg\" height=\"24px\"viewBox=\"0 0 24 24\"\n",
              "       width=\"24px\">\n",
              "    <path d=\"M0 0h24v24H0V0z\" fill=\"none\"/>\n",
              "    <path d=\"M18.56 5.44l.94 2.06.94-2.06 2.06-.94-2.06-.94-.94-2.06-.94 2.06-2.06.94zm-11 1L8.5 8.5l.94-2.06 2.06-.94-2.06-.94L8.5 2.5l-.94 2.06-2.06.94zm10 10l.94 2.06.94-2.06 2.06-.94-2.06-.94-.94-2.06-.94 2.06-2.06.94z\"/><path d=\"M17.41 7.96l-1.37-1.37c-.4-.4-.92-.59-1.43-.59-.52 0-1.04.2-1.43.59L10.3 9.45l-7.72 7.72c-.78.78-.78 2.05 0 2.83L4 21.41c.39.39.9.59 1.41.59.51 0 1.02-.2 1.41-.59l7.78-7.78 2.81-2.81c.8-.78.8-2.07 0-2.86zM5.41 20L4 18.59l7.72-7.72 1.47 1.35L5.41 20z\"/>\n",
              "  </svg>\n",
              "      </button>\n",
              "\n",
              "\n",
              "\n",
              "    <div id=\"df-4b013a4a-c9ff-4f0f-9e57-eab5bc701f3f\">\n",
              "      <button class=\"colab-df-quickchart\" onclick=\"quickchart('df-4b013a4a-c9ff-4f0f-9e57-eab5bc701f3f')\"\n",
              "              title=\"Suggest charts.\"\n",
              "              style=\"display:none;\">\n",
              "\n",
              "<svg xmlns=\"http://www.w3.org/2000/svg\" height=\"24px\"viewBox=\"0 0 24 24\"\n",
              "     width=\"24px\">\n",
              "    <g>\n",
              "        <path d=\"M19 3H5c-1.1 0-2 .9-2 2v14c0 1.1.9 2 2 2h14c1.1 0 2-.9 2-2V5c0-1.1-.9-2-2-2zM9 17H7v-7h2v7zm4 0h-2V7h2v10zm4 0h-2v-4h2v4z\"/>\n",
              "    </g>\n",
              "</svg>\n",
              "      </button>\n",
              "    </div>\n",
              "\n",
              "<style>\n",
              "  .colab-df-quickchart {\n",
              "    background-color: #E8F0FE;\n",
              "    border: none;\n",
              "    border-radius: 50%;\n",
              "    cursor: pointer;\n",
              "    display: none;\n",
              "    fill: #1967D2;\n",
              "    height: 32px;\n",
              "    padding: 0 0 0 0;\n",
              "    width: 32px;\n",
              "  }\n",
              "\n",
              "  .colab-df-quickchart:hover {\n",
              "    background-color: #E2EBFA;\n",
              "    box-shadow: 0px 1px 2px rgba(60, 64, 67, 0.3), 0px 1px 3px 1px rgba(60, 64, 67, 0.15);\n",
              "    fill: #174EA6;\n",
              "  }\n",
              "\n",
              "  [theme=dark] .colab-df-quickchart {\n",
              "    background-color: #3B4455;\n",
              "    fill: #D2E3FC;\n",
              "  }\n",
              "\n",
              "  [theme=dark] .colab-df-quickchart:hover {\n",
              "    background-color: #434B5C;\n",
              "    box-shadow: 0px 1px 3px 1px rgba(0, 0, 0, 0.15);\n",
              "    filter: drop-shadow(0px 1px 2px rgba(0, 0, 0, 0.3));\n",
              "    fill: #FFFFFF;\n",
              "  }\n",
              "</style>\n",
              "\n",
              "    <script>\n",
              "      async function quickchart(key) {\n",
              "        const containerElement = document.querySelector('#' + key);\n",
              "        const charts = await google.colab.kernel.invokeFunction(\n",
              "            'suggestCharts', [key], {});\n",
              "      }\n",
              "    </script>\n",
              "\n",
              "      <script>\n",
              "\n",
              "function displayQuickchartButton(domScope) {\n",
              "  let quickchartButtonEl =\n",
              "    domScope.querySelector('#df-4b013a4a-c9ff-4f0f-9e57-eab5bc701f3f button.colab-df-quickchart');\n",
              "  quickchartButtonEl.style.display =\n",
              "    google.colab.kernel.accessAllowed ? 'block' : 'none';\n",
              "}\n",
              "\n",
              "        displayQuickchartButton(document);\n",
              "      </script>\n",
              "      <style>\n",
              "    .colab-df-container {\n",
              "      display:flex;\n",
              "      flex-wrap:wrap;\n",
              "      gap: 12px;\n",
              "    }\n",
              "\n",
              "    .colab-df-convert {\n",
              "      background-color: #E8F0FE;\n",
              "      border: none;\n",
              "      border-radius: 50%;\n",
              "      cursor: pointer;\n",
              "      display: none;\n",
              "      fill: #1967D2;\n",
              "      height: 32px;\n",
              "      padding: 0 0 0 0;\n",
              "      width: 32px;\n",
              "    }\n",
              "\n",
              "    .colab-df-convert:hover {\n",
              "      background-color: #E2EBFA;\n",
              "      box-shadow: 0px 1px 2px rgba(60, 64, 67, 0.3), 0px 1px 3px 1px rgba(60, 64, 67, 0.15);\n",
              "      fill: #174EA6;\n",
              "    }\n",
              "\n",
              "    [theme=dark] .colab-df-convert {\n",
              "      background-color: #3B4455;\n",
              "      fill: #D2E3FC;\n",
              "    }\n",
              "\n",
              "    [theme=dark] .colab-df-convert:hover {\n",
              "      background-color: #434B5C;\n",
              "      box-shadow: 0px 1px 3px 1px rgba(0, 0, 0, 0.15);\n",
              "      filter: drop-shadow(0px 1px 2px rgba(0, 0, 0, 0.3));\n",
              "      fill: #FFFFFF;\n",
              "    }\n",
              "  </style>\n",
              "\n",
              "      <script>\n",
              "        const buttonEl =\n",
              "          document.querySelector('#df-74ec41e7-3073-49b7-9b0d-af27a02d96c6 button.colab-df-convert');\n",
              "        buttonEl.style.display =\n",
              "          google.colab.kernel.accessAllowed ? 'block' : 'none';\n",
              "\n",
              "        async function convertToInteractive(key) {\n",
              "          const element = document.querySelector('#df-74ec41e7-3073-49b7-9b0d-af27a02d96c6');\n",
              "          const dataTable =\n",
              "            await google.colab.kernel.invokeFunction('convertToInteractive',\n",
              "                                                     [key], {});\n",
              "          if (!dataTable) return;\n",
              "\n",
              "          const docLinkHtml = 'Like what you see? Visit the ' +\n",
              "            '<a target=\"_blank\" href=https://colab.research.google.com/notebooks/data_table.ipynb>data table notebook</a>'\n",
              "            + ' to learn more about interactive tables.';\n",
              "          element.innerHTML = '';\n",
              "          dataTable['output_type'] = 'display_data';\n",
              "          await google.colab.output.renderOutput(dataTable, element);\n",
              "          const docLink = document.createElement('div');\n",
              "          docLink.innerHTML = docLinkHtml;\n",
              "          element.appendChild(docLink);\n",
              "        }\n",
              "      </script>\n",
              "    </div>\n",
              "  </div>\n"
            ]
          },
          "metadata": {},
          "execution_count": 175
        }
      ]
    },
    {
      "cell_type": "markdown",
      "source": [
        "###4.3. Reducir variable scon alta correlación"
      ],
      "metadata": {
        "id": "I8XPSxO8VpIz"
      }
    },
    {
      "cell_type": "code",
      "source": [
        "###Analisis de las variables con alta correlación para convertir en componentes principales\n",
        "\n",
        "#Genera lista con las variables correlacionadas por grupos\n",
        "lista_cat=['Id_Municipio_Dane','Nombre_Municipio','Id_Departamento_Dane','Nombre_Departamento','Predial','recomendacion']\n",
        "df_unido_corr=df_unido_Normalizada.drop(lista_cat, axis=1)\n",
        "grupos_variables=obtener_variables_correlacionadas(df_unido_corr,0.8)\n",
        "# Contar las categorías\n",
        "conteo_categorias = grupos_variables['Grupo'].value_counts()\n",
        "\n",
        "# Filtrar las categorías con más de un registro\n",
        "categorias_mas_de_un_registro = conteo_categorias[conteo_categorias > 1]\n",
        "categorias_mas_de_un_registro=pd.DataFrame(categorias_mas_de_un_registro)\n",
        "categorias_mas_de_un_registro=categorias_mas_de_un_registro.reset_index()\n",
        "categorias_mas_de_un_registro=pd.DataFrame(categorias_mas_de_un_registro['index'])\n",
        "Variables_Correlacion = grupos_variables.merge(categorias_mas_de_un_registro, left_on='Grupo',right_on='index', how='inner')\n",
        "\n",
        "# seleccioan de la base _0 las variables que presentaron correlación\n",
        "\n",
        "columnas_seleccionadas = Variables_Correlacion['Variable'].tolist() # Obtener lista de columnas a seleccionar\n",
        "\n",
        "# Seleccionar columnas en df1 basado en la lista de columnas_seleccionadas\n",
        "df_seleccionado = df_unido_Normalizada[columnas_seleccionadas]\n",
        "\n",
        "#Generación de los componentes principales\n",
        "componentes_p=generar_componentes_principales(df_seleccionado, Variables_Correlacion)\n",
        "\n",
        "#Borrar columnas corrlacionadas y agregar componentes principales\n",
        "df_unido_Normalizada_sin_corr=df_unido_Normalizada.drop(columnas_seleccionadas, axis=1)\n",
        "df_unido_Normalizada_sin_corr=pd.concat([df_unido_Normalizada_sin_corr, componentes_p], axis=1)"
      ],
      "metadata": {
        "id": "TRBLD5psVobm"
      },
      "execution_count": null,
      "outputs": []
    },
    {
      "cell_type": "code",
      "source": [
        "ruta_archivo = '/content/drive/My Drive/4_Proyect_Final/1_Datos/df_unido_Normalizada_sin_corr.csv'\n",
        "df_unido_Normalizada_sin_corr.to_csv(ruta_archivo, index=False)"
      ],
      "metadata": {
        "id": "Bx99ZL8dcq79"
      },
      "execution_count": null,
      "outputs": []
    },
    {
      "cell_type": "code",
      "source": [
        "df_unido_Normalizada_sin_corr"
      ],
      "metadata": {
        "id": "xf1eZYVDc74j"
      },
      "execution_count": null,
      "outputs": []
    },
    {
      "cell_type": "markdown",
      "source": [
        "## 5. Creacion Base 0 Regresión"
      ],
      "metadata": {
        "id": "qP5OpKo689HJ"
      }
    },
    {
      "cell_type": "markdown",
      "source": [
        "### 5.1. Integracion de bases de datos"
      ],
      "metadata": {
        "id": "iTneSW3dSV8i"
      }
    },
    {
      "cell_type": "code",
      "source": [
        "Base_0=Terridata.merge(Municipios,left_on='Category',right_on='Id_Municipio_Dane')\n",
        "#Base_0=Base_0.drop(Base_0[Base_0['Year'] == 2021].index)\n",
        "#Base_0=Base_0.drop(Base_0[Base_0['Year'] == 2022].index)\n",
        "#Base_0['Year'].value_counts()"
      ],
      "metadata": {
        "id": "6xd9o-2nqGut"
      },
      "execution_count": null,
      "outputs": []
    },
    {
      "cell_type": "markdown",
      "source": [
        "###5.2. completar faltantes y eliminar columas 0"
      ],
      "metadata": {
        "id": "KZBjP5jZSgR8"
      }
    },
    {
      "cell_type": "code",
      "source": [
        "valores_faltantes = Base_0.isna().sum()\n",
        "valores_faltantes = valores_faltantes[valores_faltantes != 0]\n",
        "valores_faltantes=pd.DataFrame(valores_faltantes)\n",
        "valores_faltantes.shape[0]"
      ],
      "metadata": {
        "colab": {
          "base_uri": "https://localhost:8080/"
        },
        "id": "B9Ci0-u3rUJZ",
        "outputId": "7f2d2ecb-9e82-43ac-cd8c-53b440609572"
      },
      "execution_count": null,
      "outputs": [
        {
          "output_type": "execute_result",
          "data": {
            "text/plain": [
              "48"
            ]
          },
          "metadata": {},
          "execution_count": 50
        }
      ]
    },
    {
      "cell_type": "code",
      "source": [
        "columnas_a_eliminar = ['departamento_GestComp', 'departamento_MDD','departamento_ResComp','Nombre_Municipio', 'Nombre_Departamento']\n",
        "Base_0 = Base_0.drop(columnas_a_eliminar, axis=1)\n",
        "df_filled = df.fillna(0)\n",
        "Base_0 = Base_0.fillna(0)"
      ],
      "metadata": {
        "id": "hNpC3XTytwBQ"
      },
      "execution_count": null,
      "outputs": []
    },
    {
      "cell_type": "code",
      "source": [
        "#Elimina columans que sumen 0\n",
        "sums = Base_0.sum()  # Obtiene la suma de cada columna\n",
        "zero_sum_columns = sums[sums == 0].index  # Filtra las columnas con suma igual a cero\n",
        "Base_0=Base_0.drop(zero_sum_columns, axis=1)"
      ],
      "metadata": {
        "id": "KQZwdetdZvZC"
      },
      "execution_count": null,
      "outputs": []
    },
    {
      "cell_type": "code",
      "source": [],
      "metadata": {
        "colab": {
          "base_uri": "https://localhost:8080/"
        },
        "id": "6IxWaGoGntml",
        "outputId": "9298775f-50f6-4dca-867e-b54a020c8af6"
      },
      "execution_count": null,
      "outputs": [
        {
          "output_type": "execute_result",
          "data": {
            "text/plain": [
              "pandas.core.indexes.base.Index"
            ]
          },
          "metadata": {},
          "execution_count": 28
        }
      ]
    },
    {
      "cell_type": "code",
      "source": [
        "index_series = pd.Series(Base_0.columns)\n",
        "\n",
        "# Convertir la Serie en un DataFrame\n",
        "df = index_series.to_frame()"
      ],
      "metadata": {
        "id": "MZdIrpSmw9vR"
      },
      "execution_count": null,
      "outputs": []
    },
    {
      "cell_type": "markdown",
      "source": [
        "###5.3 Variables calculadas"
      ],
      "metadata": {
        "id": "GdhVgptvSwY7"
      }
    },
    {
      "cell_type": "code",
      "source": [
        "Base_0=Base_0.merge(Predial_mes_anterior_3,left_on=['Category','Year'],right_on=['CODIGO_DANE','Año'])\n",
        "columnas_a_eliminar = ['CODIGO_DANE', 'Año']\n",
        "Base_0 = Base_0.drop(columnas_a_eliminar, axis=1)\n",
        "Base_0=Base_0.merge(Predial_mes_anterior_2,left_on=['Category','Year'],right_on=['CODIGO_DANE','Año'])\n",
        "columnas_a_eliminar = ['CODIGO_DANE', 'Año']\n",
        "Base_0 = Base_0.drop(columnas_a_eliminar, axis=1)\n",
        "Base_0=Base_0.merge(Predial_mes_anterior,left_on=['Category','Year'],right_on=['CODIGO_DANE','Año'])\n",
        "columnas_a_eliminar = ['CODIGO_DANE', 'Año']\n",
        "Base_0 = Base_0.drop(columnas_a_eliminar, axis=1)\n",
        "Base_0=Base_0.merge(Predial_Y,left_on=['Category','Year'],right_on=['CODIGO_DANE','Año'],how= \"left\")\n",
        "Base_0['Entranamiento'] = Base_0['Crecimiento'].apply(lambda x: 'predicción' if pd.isnull(x) else 'entrenamiento')\n",
        "columnas_a_eliminar = ['CODIGO_DANE', 'Año']\n",
        "Base_0 = Base_0.drop(columnas_a_eliminar, axis=1)\n",
        "\n",
        "\n"
      ],
      "metadata": {
        "id": "ALpWQCPcxz6-"
      },
      "execution_count": null,
      "outputs": []
    },
    {
      "cell_type": "code",
      "source": [
        "non_numeric_variables = Base_0.select_dtypes(exclude=[np.number]).columns.tolist()\n",
        "non_numeric_variables"
      ],
      "metadata": {
        "colab": {
          "base_uri": "https://localhost:8080/"
        },
        "id": "j9-tOzOFTfhC",
        "outputId": "860f0cca-afeb-47dc-9fd9-f9fdacceb2c8"
      },
      "execution_count": null,
      "outputs": [
        {
          "output_type": "execute_result",
          "data": {
            "text/plain": [
              "['Entranamiento']"
            ]
          },
          "metadata": {},
          "execution_count": 56
        }
      ]
    },
    {
      "cell_type": "markdown",
      "source": [
        "###5.4 Normalizar variables"
      ],
      "metadata": {
        "id": "79ioWhGfS8HF"
      }
    },
    {
      "cell_type": "code",
      "source": [
        "# Normalizar variables\n",
        "lista_cat=['Year', 'Category','Id_Departamento_Dane','Id_Municipio_Dane','Entranamiento','Crecimiento','Crecimiento_mes_anterior','Crecimiento_mes_anterior_2','Crecimiento_mes_anterior_3']\n",
        "Categorias=Base_0[lista_cat]\n",
        "Normalizar=Base_0.drop(lista_cat, axis=1)\n",
        "Base_0_Normalizada=normalize_variables(Normalizar)\n",
        "Base_0_Normalizada=Categorias.join(Base_0_Normalizada)\n",
        "#Base_0_Normalizada"
      ],
      "metadata": {
        "id": "SjUG0F1iedx9"
      },
      "execution_count": null,
      "outputs": []
    },
    {
      "cell_type": "markdown",
      "source": [
        "###5.5 Simplificacion de variables con correlación alta"
      ],
      "metadata": {
        "id": "hA94RjifTAU9"
      }
    },
    {
      "cell_type": "code",
      "source": [
        "###Analisis de las variables con alta correlación para convertir en componentes principales\n",
        "\n",
        "#Genera lista con las variables correlacionadas por grupos\n",
        "lista_cat=['Year', 'Category','Id_Departamento_Dane','Id_Municipio_Dane','Entranamiento']\n",
        "base_0_corr=Base_0_Normalizada.drop(lista_cat, axis=1)\n",
        "grupos_variables=obtener_variables_correlacionadas(base_0_corr,0.8)\n",
        "# Contar las categorías\n",
        "conteo_categorias = grupos_variables['Grupo'].value_counts()\n",
        "\n",
        "# Filtrar las categorías con más de un registro\n",
        "categorias_mas_de_un_registro = conteo_categorias[conteo_categorias > 1]\n",
        "categorias_mas_de_un_registro=pd.DataFrame(categorias_mas_de_un_registro)\n",
        "categorias_mas_de_un_registro=categorias_mas_de_un_registro.reset_index()\n",
        "categorias_mas_de_un_registro=pd.DataFrame(categorias_mas_de_un_registro['index'])\n",
        "Variables_Correlacion = grupos_variables.merge(categorias_mas_de_un_registro, left_on='Grupo',right_on='index', how='inner')\n",
        "\n",
        "# seleccioan de la base _0 las variables que presentaron correlación\n",
        "\n",
        "columnas_seleccionadas = Variables_Correlacion['Variable'].tolist() # Obtener lista de columnas a seleccionar\n",
        "\n",
        "# Seleccionar columnas en df1 basado en la lista de columnas_seleccionadas\n",
        "df_seleccionado = Base_0_Normalizada[columnas_seleccionadas]\n",
        "\n",
        "#Generación de los componentes principales\n",
        "componentes_p=generar_componentes_principales(df_seleccionado, Variables_Correlacion)\n",
        "\n",
        "#Borrar columnas corrlacionadas y agregar componentes principales\n",
        "Base_0_Normalizada_sin_corr=Base_0_Normalizada.drop(columnas_seleccionadas, axis=1)\n",
        "Base_0_Normalizada_sin_corr=pd.concat([Base_0_Normalizada_sin_corr, componentes_p], axis=1)\n"
      ],
      "metadata": {
        "id": "uuV8gVnAl3Wl"
      },
      "execution_count": null,
      "outputs": []
    },
    {
      "cell_type": "code",
      "source": [
        "ruta_archivo = '/content/drive/My Drive/4_Proyect_Final/1_Datos/Base_0_Normalizada.csv'\n",
        "Base_0_Normalizada_sin_corr.to_csv(ruta_archivo, index=False)"
      ],
      "metadata": {
        "id": "hNvrs9z1QzaH"
      },
      "execution_count": null,
      "outputs": []
    }
  ]
}