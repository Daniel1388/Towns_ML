{
 "cells": [
  {
   "cell_type": "code",
   "execution_count": 66,
   "metadata": {},
   "outputs": [],
   "source": [
    "import os\n",
    "import numpy as np\n"
   ]
  },
  {
   "cell_type": "code",
   "execution_count": 87,
   "metadata": {},
   "outputs": [],
   "source": [
    "archivo_csv = 'https://drive.google.com/uc?export=download&id=1a9IfZDuiqbhh2iefH8BMarHL8IXWpayF'\n",
    "municipios = pd.read_csv(archivo_csv, sep=';', encoding='latin-1')\n",
    "municipios['Id_Municipio_Dane_text'] = municipios['Id_Municipio_Dane'].astype(str)\n",
    "#municipios['Id_Municipio_Dane_text']=municipios['Id_Municipio_Dane_text']+'000'\n"
   ]
  },
  {
   "cell_type": "code",
   "execution_count": 91,
   "metadata": {},
   "outputs": [],
   "source": [
    "def quitar_cero(texto):\n",
    "    if texto[0] == '0':\n",
    "        return texto[1:]\n",
    "    else:\n",
    "        return texto"
   ]
  },
  {
   "cell_type": "code",
   "execution_count": 106,
   "metadata": {},
   "outputs": [
    {
     "name": "stderr",
     "output_type": "stream",
     "text": [
      "C:\\Users\\ABI\\Anaconda3\\lib\\site-packages\\IPython\\core\\interactiveshell.py:3049: DtypeWarning: Columns (3,5,6) have mixed types. Specify dtype option on import or set low_memory=False.\n",
      "  interactivity=interactivity, compiler=compiler, result=result)\n"
     ]
    }
   ],
   "source": [
    "import pandas as pd\n",
    "# Leer el archivo CSV como DataFrame\n",
    "df = pd.read_csv('C:/Users/ABI/Documents/1_Maestria/4_Proyect_Final/datos/seguridad/s_csv/Seguridad_Municipios.CSV', sep=';',encoding='latin-1',dtype={'CODIGO DANE': str} )"
   ]
  },
  {
   "cell_type": "code",
   "execution_count": 107,
   "metadata": {},
   "outputs": [],
   "source": [
    "df['Año'] = df['FECHA HECHO'].str[-4:]\n"
   ]
  },
  {
   "cell_type": "code",
   "execution_count": 108,
   "metadata": {},
   "outputs": [],
   "source": [
    "df['temp_ARMAS_MEDIOS']=df['ARMAS MEDIOS']\n",
    "df['temp_CODIGO DANE']=df['CODIGO DANE']\n",
    "\n",
    "#df.loc[df['Tipo_delito'] == 'hurto_a_comercio', 'temp_ARMAS_MEDIOS'] = 'X'\n",
    "\n",
    "df.loc[(df['Tipo_delito'] == 'hurto_a_comercio') & (df['Año'] == '2013'), 'temp_ARMAS_MEDIOS'] = df['CODIGO DANE']\n",
    "df.loc[(df['Tipo_delito'] == 'hurto_a_comercio') & (df['Año'] == '2013'), 'temp_CODIGO DANE'] = df['ARMAS MEDIOS']"
   ]
  },
  {
   "cell_type": "code",
   "execution_count": 109,
   "metadata": {},
   "outputs": [],
   "source": [
    "df['temp_CODIGO DANE']=df['temp_CODIGO DANE'].astype(str)\n",
    "df['Cod_dane'] = df['temp_CODIGO DANE'].apply(lambda x: quitar_cero(x))\n",
    "#df['Cod_dane'] = df['temp_CODIGO DANE'].apply(lambda x: x[:5])\n",
    "df['Cod_dane'] = df['Cod_dane'].str.slice(stop=-3)\n",
    "\n"
   ]
  },
  {
   "cell_type": "code",
   "execution_count": 114,
   "metadata": {},
   "outputs": [],
   "source": [
    "df = pd.merge(df, municipios, left_on='Cod_dane',right_on='Id_Municipio_Dane_text', how='left')\n",
    "\n",
    "df = df.dropna(subset=['Id_Municipio_Dane'])\n",
    "#resultado[resultado['Id_Municipio_Dane'].isna()]\n"
   ]
  },
  {
   "cell_type": "markdown",
   "metadata": {},
   "source": [
    "# Categoria de delito por año"
   ]
  },
  {
   "cell_type": "code",
   "execution_count": 116,
   "metadata": {},
   "outputs": [],
   "source": [
    "seguridad_df = df.loc[:, ['Id_Municipio_Dane', 'Nombre_Municipio','Año','Tipo_delito','CANTIDAD']]\n",
    "seguridad_df['Cat_seguridad'] = 'Seguridad_' + seguridad_df['Tipo_delito'] + '_' + seguridad_df['Año']\n",
    "seguridad_df = seguridad_df.loc[:, ['Id_Municipio_Dane', 'Nombre_Municipio','Cat_seguridad','CANTIDAD']]"
   ]
  },
  {
   "cell_type": "code",
   "execution_count": 118,
   "metadata": {},
   "outputs": [],
   "source": [
    "# Definir las variables para las columnas de agrupación y la columna a sumar\n",
    "columnas_agrupacion = ['Id_Municipio_Dane', 'Nombre_Municipio','Cat_seguridad']\n",
    "columna_suma = 'CANTIDAD'\n",
    "\n",
    "# Agrupar por las columnas de agrupación y sumar la columna a sumar\n",
    "df_agrupado = seguridad_df.groupby(columnas_agrupacion)[columna_suma].sum()\n",
    "df_agrupado = df_agrupado.to_frame()"
   ]
  },
  {
   "cell_type": "code",
   "execution_count": 120,
   "metadata": {},
   "outputs": [],
   "source": [
    "df_pivot = pd.pivot_table(df_agrupado, values='CANTIDAD', index=['Id_Municipio_Dane', 'Nombre_Municipio'],columns='Cat_seguridad', aggfunc=sum,fill_value=0)"
   ]
  },
  {
   "cell_type": "code",
   "execution_count": 124,
   "metadata": {},
   "outputs": [],
   "source": [
    "# Escribir el DataFrame en un archivo CSV\n",
    "df_pivot.to_csv('C:/Users/ABI/Documents/1_Maestria/4_Proyect_Final/datos/seguridad/s_csv/Seguridad_df.csv')"
   ]
  },
  {
   "cell_type": "markdown",
   "metadata": {},
   "source": [
    "# Total delitos por año"
   ]
  },
  {
   "cell_type": "code",
   "execution_count": 125,
   "metadata": {},
   "outputs": [],
   "source": [
    "seguridad_df = df.loc[:, ['Id_Municipio_Dane', 'Nombre_Municipio','Año','CANTIDAD']]\n",
    "seguridad_df['Cat_seguridad'] = 'Seguridad_' + seguridad_df['Año']\n",
    "seguridad_df = seguridad_df.loc[:, ['Id_Municipio_Dane', 'Nombre_Municipio','Cat_seguridad','CANTIDAD']]"
   ]
  },
  {
   "cell_type": "code",
   "execution_count": 126,
   "metadata": {},
   "outputs": [],
   "source": [
    "# Definir las variables para las columnas de agrupación y la columna a sumar\n",
    "columnas_agrupacion = ['Id_Municipio_Dane', 'Nombre_Municipio','Cat_seguridad']\n",
    "columna_suma = 'CANTIDAD'\n",
    "\n",
    "# Agrupar por las columnas de agrupación y sumar la columna a sumar\n",
    "df_agrupado = seguridad_df.groupby(columnas_agrupacion)[columna_suma].sum()\n",
    "df_agrupado = df_agrupado.to_frame()"
   ]
  },
  {
   "cell_type": "code",
   "execution_count": 127,
   "metadata": {},
   "outputs": [],
   "source": [
    "df_pivot = pd.pivot_table(df_agrupado, values='CANTIDAD', index=['Id_Municipio_Dane', 'Nombre_Municipio'],columns='Cat_seguridad', aggfunc=sum,fill_value=0)"
   ]
  },
  {
   "cell_type": "code",
   "execution_count": 128,
   "metadata": {},
   "outputs": [],
   "source": [
    "# Escribir el DataFrame en un archivo CSV\n",
    "df_pivot.to_csv('C:/Users/ABI/Documents/1_Maestria/4_Proyect_Final/datos/seguridad/s_csv/Seguridad_df_total_año.csv')"
   ]
  },
  {
   "cell_type": "code",
   "execution_count": 131,
   "metadata": {},
   "outputs": [
    {
     "data": {
      "text/plain": [
       "MASCULINO         2012914\n",
       "FEMENINO          1517819\n",
       "NO REPORTA           2556\n",
       "NO APLICA             542\n",
       "NO RESPORTADO         372\n",
       "NO REPORTADO          364\n",
       "NO REPORTADO           68\n",
       "-                      63\n",
       "NO REGISTRA            45\n",
       "Name: GENERO, dtype: int64"
      ]
     },
     "execution_count": 131,
     "metadata": {},
     "output_type": "execute_result"
    }
   ],
   "source": [
    "df['GENERO'].value_counts()"
   ]
  },
  {
   "cell_type": "markdown",
   "metadata": {},
   "source": [
    "# Genero"
   ]
  },
  {
   "cell_type": "code",
   "execution_count": 132,
   "metadata": {},
   "outputs": [],
   "source": [
    "seguridad_df = df.loc[:, ['Id_Municipio_Dane', 'Nombre_Municipio','Año','GENERO','CANTIDAD']]\n",
    "seguridad_df['Cat_seguridad'] = 'Seguridad_' + seguridad_df['GENERO'] + '_' + seguridad_df['Año']\n",
    "seguridad_df = seguridad_df.loc[:, ['Id_Municipio_Dane', 'Nombre_Municipio','Cat_seguridad','CANTIDAD']]"
   ]
  },
  {
   "cell_type": "code",
   "execution_count": 133,
   "metadata": {},
   "outputs": [],
   "source": [
    "# Definir las variables para las columnas de agrupación y la columna a sumar\n",
    "columnas_agrupacion = ['Id_Municipio_Dane', 'Nombre_Municipio','Cat_seguridad']\n",
    "columna_suma = 'CANTIDAD'\n",
    "\n",
    "# Agrupar por las columnas de agrupación y sumar la columna a sumar\n",
    "df_agrupado = seguridad_df.groupby(columnas_agrupacion)[columna_suma].sum()\n",
    "df_agrupado = df_agrupado.to_frame()"
   ]
  },
  {
   "cell_type": "code",
   "execution_count": 134,
   "metadata": {},
   "outputs": [],
   "source": [
    "df_pivot = pd.pivot_table(df_agrupado, values='CANTIDAD', index=['Id_Municipio_Dane', 'Nombre_Municipio'],columns='Cat_seguridad', aggfunc=sum,fill_value=0)"
   ]
  },
  {
   "cell_type": "code",
   "execution_count": 135,
   "metadata": {},
   "outputs": [],
   "source": [
    "# Escribir el DataFrame en un archivo CSV\n",
    "df_pivot.to_csv('C:/Users/ABI/Documents/1_Maestria/4_Proyect_Final/datos/seguridad/s_csv/Seguridad_df_genero.csv')"
   ]
  }
 ],
 "metadata": {
  "kernelspec": {
   "display_name": "Python 3",
   "language": "python",
   "name": "python3"
  },
  "language_info": {
   "codemirror_mode": {
    "name": "ipython",
    "version": 3
   },
   "file_extension": ".py",
   "mimetype": "text/x-python",
   "name": "python",
   "nbconvert_exporter": "python",
   "pygments_lexer": "ipython3",
   "version": "3.7.3"
  }
 },
 "nbformat": 4,
 "nbformat_minor": 2
}
