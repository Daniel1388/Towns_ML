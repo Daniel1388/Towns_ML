{
 "cells": [
  {
   "cell_type": "code",
   "execution_count": 1,
   "metadata": {},
   "outputs": [],
   "source": [
    "import os\n",
    "import pandas as pd\n",
    "import numpy as np\n",
    "def unir_archivos_csv_carpeta(carpeta):\n",
    "    archivos_csv = [archivo for archivo in os.listdir(carpeta) if archivo.endswith('.csv')]\n",
    "    dfs = []\n",
    "    \n",
    "    for archivo in archivos_csv:\n",
    "        ruta_archivo = os.path.join(carpeta, archivo)\n",
    "        df = pd.read_csv(ruta_archivo)\n",
    "        dfs.append(df)\n",
    "    \n",
    "    dataframe_final = pd.concat(dfs, ignore_index=True)\n",
    "    return dataframe_final\n",
    "\n",
    "def dumificar_columna(dataframe, columna):\n",
    "    dummies = pd.get_dummies(dataframe[columna], prefix=columna, drop_first=True)\n",
    "    dataframe = pd.concat([dataframe, dummies], axis=1)\n",
    "    dataframe.drop(columna, axis=1, inplace=True)\n",
    "    return dataframe\n",
    "\n",
    "def generar_consecutivos(df, columna_orden, columna_consecutivos):\n",
    "    # Ordenar el DataFrame según la columna de orden\n",
    "    df_ordenado = df.sort_values(by=columna_orden)\n",
    "    \n",
    "    # Generar valores consecutivos en una nueva columna\n",
    "    df_ordenado[columna_consecutivos] = range(1, len(df_ordenado) + 1)\n",
    "    \n",
    "    return df_ordenado"
   ]
  },
  {
   "cell_type": "code",
   "execution_count": 2,
   "metadata": {},
   "outputs": [
    {
     "name": "stderr",
     "output_type": "stream",
     "text": [
      "C:\\Users\\ABI\\Anaconda3\\lib\\site-packages\\IPython\\core\\interactiveshell.py:3214: DtypeWarning: Columns (3) have mixed types. Specify dtype option on import or set low_memory=False.\n",
      "  if (yield from self.run_code(code, result)):\n",
      "C:\\Users\\ABI\\Anaconda3\\lib\\site-packages\\IPython\\core\\interactiveshell.py:3214: DtypeWarning: Columns (3,6) have mixed types. Specify dtype option on import or set low_memory=False.\n",
      "  if (yield from self.run_code(code, result)):\n"
     ]
    }
   ],
   "source": [
    "carpeta_archivos = 'C:/Users/ABI/Documents/1_Maestria/4_Proyect_Final/datos/igac/REGISTRO_2'\n",
    "\n",
    "dataframe_final = unir_archivos_csv_carpeta(carpeta_archivos)\n"
   ]
  },
  {
   "cell_type": "code",
   "execution_count": 46,
   "metadata": {},
   "outputs": [],
   "source": [
    "archivo_csv = 'https://drive.google.com/uc?export=download&id=1a9IfZDuiqbhh2iefH8BMarHL8IXWpayF'\n",
    "Municipios = pd.read_csv(archivo_csv, sep=';', encoding='latin-1')\n",
    "Municipios=Municipios['Id_Municipio_Dane']\n",
    "Municipios=Municipios.to_frame()\n"
   ]
  },
  {
   "cell_type": "code",
   "execution_count": 4,
   "metadata": {},
   "outputs": [],
   "source": [
    "# Area Promedio por lote\n",
    "Area_mean_lote = dataframe_final.groupby('MUNICIPIO')['AREA_TERRENO_1'].mean()\n",
    "Area_mean_lote=Area_mean_lote.to_frame()\n",
    "Area_mean_lote = Area_mean_lote.rename(columns={'AREA_TERRENO_1':'Lotes_Mean_Area'})\n"
   ]
  },
  {
   "cell_type": "code",
   "execution_count": 5,
   "metadata": {},
   "outputs": [],
   "source": [
    "# Numero de lotes\n",
    "Numero_lotes = dataframe_final.groupby('MUNICIPIO')['AREA_TERRENO_1'].count()\n",
    "Numero_lotes=Numero_lotes.to_frame()\n",
    "Numero_lotes = Numero_lotes.rename(columns={'AREA_TERRENO_1':'Lotes_Cantidad'})\n"
   ]
  },
  {
   "cell_type": "code",
   "execution_count": 6,
   "metadata": {},
   "outputs": [],
   "source": [
    "# Area promedio costruida (solo lotes con construcción)\n",
    "\n",
    "df_filtrado = dataframe_final[dataframe_final['AREA_CONSTRUIDA_1'] > 0]\n",
    "Area_contruida = df_filtrado.groupby('MUNICIPIO')['AREA_CONSTRUIDA_1'].mean()\n",
    "Area_contruida=Area_contruida.to_frame()  \n",
    "Area_contruida = Area_contruida.rename(columns={'AREA_CONSTRUIDA_1':'Lotes_Area_Mean_Construida'})\n",
    "#Area_contruida\n"
   ]
  },
  {
   "cell_type": "code",
   "execution_count": 7,
   "metadata": {},
   "outputs": [
    {
     "data": {
      "text/plain": [
       "Index(['DEPARTAMENTO', 'MUNICIPIO', 'NUMERO_PREDIAL', 'ZONA_FISICA_1',\n",
       "       'ZONA_ECONOMICA_1', 'AREA_TERRENO_1', 'ZONA_FISICA_2',\n",
       "       'ZONA_ECONOMICA_2', 'AREA_TERRENO_2', 'HABITACIONES_1', 'BANOS_1',\n",
       "       'LOCALES_1', 'PISOS_1', 'TIPIFICACION_1', 'USO_1', 'PUNTAJE_1',\n",
       "       'AREA_CONSTRUIDA_1', 'HABITACIONES_2', 'BANOS_2', 'LOCALES_2',\n",
       "       'PISOS_2', 'TIPIFICACION_2', 'USO_2', 'PUNTAJE_2', 'AREA_CONSTRUIDA_2',\n",
       "       'HABITACIONES_3', 'BANOS_3', 'LOCALES_3', 'PISOS_3', 'TIPIFICACION_3',\n",
       "       'USO_3', 'PUNTAJE_3', 'AREA_CONSTRUIDA_3', 'NUMERO_PREDIAL_ANTERIOR'],\n",
       "      dtype='object')"
      ]
     },
     "execution_count": 7,
     "metadata": {},
     "output_type": "execute_result"
    }
   ],
   "source": [
    "dataframe_final.columns"
   ]
  },
  {
   "cell_type": "code",
   "execution_count": 8,
   "metadata": {},
   "outputs": [],
   "source": [
    "# Numero lotes con construcciónes grandes, medianas, pequeñas,muy pequeños\n",
    "categorias = pd.qcut(df_filtrado['AREA_CONSTRUIDA_1'], 4, labels=False)\n",
    "categorias=categorias.to_frame()\n",
    "categorias = categorias.rename(columns={'AREA_CONSTRUIDA_1':'Lotes_Cat_Area_Construida'})\n",
    "dataframe_concat = pd.concat([df_filtrado['MUNICIPIO'], categorias], axis=1)\n",
    "nueva_dataframe = pd.pivot_table(dataframe_concat, index=dataframe_concat.MUNICIPIO, columns='Lotes_Cat_Area_Construida', aggfunc='size', fill_value=0)\n",
    "nueva_dataframe.columns = ['Lotes_Cat_Area_Construida_' + str(col) for col in nueva_dataframe.columns]\n",
    "Cat_Area_Construida=nueva_dataframe\n",
    "#nueva_dataframe = nueva_dataframe.rename(columns={0:'Lotes_Cat_Area_Construida_0'})\n"
   ]
  },
  {
   "cell_type": "code",
   "execution_count": 9,
   "metadata": {},
   "outputs": [],
   "source": [
    "# Numero lotes de areas grandes, medianas, pequeñas,muy pequeños\n",
    "categorias = pd.qcut(dataframe_final['AREA_TERRENO_1'], 4, labels=False)\n",
    "categorias=categorias.to_frame()\n",
    "categorias = categorias.rename(columns={'AREA_TERRENO_1':'Lotes_Cat_Area'})\n",
    "dataframe_concat = pd.concat([dataframe_final['MUNICIPIO'], categorias], axis=1)\n",
    "nueva_dataframe = pd.pivot_table(dataframe_concat, index=dataframe_concat.MUNICIPIO, columns='Lotes_Cat_Area', aggfunc='size', fill_value=0)\n",
    "nueva_dataframe.columns = ['Lotes_Cat_Area_' + str(col) for col in nueva_dataframe.columns]\n",
    "Cat_Area=nueva_dataframe\n",
    "#nueva_dataframe = nueva_dataframe.rename(columns={0:'Lotes_Cat_Area_Construida_0'})\n",
    "\n"
   ]
  },
  {
   "cell_type": "code",
   "execution_count": 10,
   "metadata": {},
   "outputs": [],
   "source": [
    "# en lotes con info, promedio de numero de habitaciones\n",
    "\n",
    "df_filtrado = dataframe_final[dataframe_final['HABITACIONES_1'] > 0]\n",
    "Habitaciones = df_filtrado.groupby('MUNICIPIO')['HABITACIONES_1'].mean()\n",
    "Habitaciones=Habitaciones.to_frame()  \n",
    "Habitaciones = Habitaciones.rename(columns={'HABITACIONES_1':'Lotes_Habitacion_promedio'})\n"
   ]
  },
  {
   "cell_type": "code",
   "execution_count": 11,
   "metadata": {},
   "outputs": [],
   "source": [
    "# en lotes con info, promedio de numero de baños\n",
    "df_filtrado = dataframe_final[dataframe_final['BANOS_1'] > 0]\n",
    "Baños = df_filtrado.groupby('MUNICIPIO')['BANOS_1'].mean()\n",
    "Baños=Baños.to_frame()  \n",
    "Baños = Baños.rename(columns={'BANOS_1':'Lotes_Baños_promedio'})\n"
   ]
  },
  {
   "cell_type": "code",
   "execution_count": 12,
   "metadata": {},
   "outputs": [],
   "source": [
    "# en lotes con info, promedio de numero de locales\n",
    "\n",
    "df_filtrado = dataframe_final[dataframe_final['LOCALES_1'] > 0]\n",
    "Locales = df_filtrado.groupby('MUNICIPIO')['LOCALES_1'].mean()\n",
    "Locales = Locales.to_frame()  \n",
    "Locales = Locales.rename(columns={'LOCALES_1':'Lotes_Numero_Locales_promedio'})"
   ]
  },
  {
   "cell_type": "code",
   "execution_count": 13,
   "metadata": {},
   "outputs": [],
   "source": [
    "# cantidad de lotes por tipo de uso\n",
    "\n",
    "dataframe_concat=dataframe_final[['MUNICIPIO', 'USO_1']]\n",
    "nueva_dataframe = pd.pivot_table(dataframe_concat, index=dataframe_concat.MUNICIPIO, columns='USO_1', aggfunc='size', fill_value=0)\n",
    "nueva_dataframe.columns = ['Lotes_Cat_Tipo_uso_' + str(col) for col in nueva_dataframe.columns]\n",
    "Tipo_Uso=nueva_dataframe\n",
    "\n"
   ]
  },
  {
   "cell_type": "code",
   "execution_count": 14,
   "metadata": {},
   "outputs": [],
   "source": [
    "# cantidad de lotes por tipificación\n",
    "\n",
    "dataframe_concat=dataframe_final[['MUNICIPIO', 'TIPIFICACION_1']]\n",
    "nueva_dataframe = pd.pivot_table(dataframe_concat, index=dataframe_concat.MUNICIPIO, columns='TIPIFICACION_1', aggfunc='size', fill_value=0)\n",
    "nueva_dataframe.columns = ['Lotes_Cat_Tipificacion_' + str(col) for col in nueva_dataframe.columns]\n",
    "Tipificacion=nueva_dataframe\n"
   ]
  },
  {
   "cell_type": "code",
   "execution_count": 15,
   "metadata": {},
   "outputs": [],
   "source": [
    "# porcentaje lotes por categoria area cosntruida\n",
    "\n",
    "# Calcular la suma por fila\n",
    "suma_filas = Cat_Area_Construida.sum(axis=1)\n",
    "\n",
    "# Calcular los porcentajes de cada valor en las columnas\n",
    "porcentajes_cat_area_cosntruida = Cat_Area_Construida.div(suma_filas, axis=0) * 100\n"
   ]
  },
  {
   "cell_type": "code",
   "execution_count": 16,
   "metadata": {},
   "outputs": [],
   "source": [
    "# porcentaje lotes por categoria area cosntruida\n",
    "\n",
    "# Calcular la suma por fila\n",
    "suma_filas = Cat_Area.sum(axis=1)\n",
    "\n",
    "# Calcular los porcentajes de cada valor en las columnas\n",
    "porcentajes_cat_area = Cat_Area.div(suma_filas, axis=0) * 100"
   ]
  },
  {
   "cell_type": "code",
   "execution_count": null,
   "metadata": {},
   "outputs": [],
   "source": []
  },
  {
   "cell_type": "code",
   "execution_count": 17,
   "metadata": {},
   "outputs": [],
   "source": [
    "# Numero de habitaciones como categoria\n",
    "\n",
    "df=pd.DataFrame(dataframe_final['HABITACIONES_1'])\n",
    "df_consecutivos = generar_consecutivos(df, 'HABITACIONES_1', 'HABITACIONES_1_1')\n",
    "categorias=pd.qcut(df_consecutivos['HABITACIONES_1_1'], 10, labels=False).sort_index()\n",
    "categorias=categorias.to_frame()\n",
    "categorias = categorias.rename(columns={'HABITACIONES_1_1':'Lotes_Cat_Habitacion'})\n",
    "dataframe_concat = pd.concat([dataframe_final['MUNICIPIO'], categorias], axis=1)\n",
    "nueva_dataframe = pd.pivot_table(dataframe_concat, index=dataframe_concat.MUNICIPIO, columns='Lotes_Cat_Habitacion', aggfunc='size', fill_value=0)\n",
    "nueva_dataframe.columns = ['Lotes_Cat_Habitacion_' + str(col) for col in nueva_dataframe.columns]\n",
    "Cat_Lotes_Habitacion=nueva_dataframe\n"
   ]
  },
  {
   "cell_type": "code",
   "execution_count": 18,
   "metadata": {},
   "outputs": [],
   "source": [
    "# Baños como categoria\n",
    "\n",
    "df=pd.DataFrame(dataframe_final['BANOS_1'])\n",
    "df_consecutivos = generar_consecutivos(df, 'BANOS_1', 'BANOS_1_1')\n",
    "categorias=pd.qcut(df_consecutivos['BANOS_1_1'], 10, labels=False).sort_index()\n",
    "categorias=categorias.to_frame()\n",
    "categorias = categorias.rename(columns={'BANOS_1_1':'Lotes_Cat_Banos'})\n",
    "dataframe_concat = pd.concat([dataframe_final['MUNICIPIO'], categorias], axis=1)\n",
    "nueva_dataframe = pd.pivot_table(dataframe_concat, index=dataframe_concat.MUNICIPIO, columns='Lotes_Cat_Banos', aggfunc='size', fill_value=0)\n",
    "nueva_dataframe.columns = ['Lotes_Cat_Banos_' + str(col) for col in nueva_dataframe.columns]\n",
    "Cat_Lotes_Banos=nueva_dataframe\n"
   ]
  },
  {
   "cell_type": "code",
   "execution_count": 36,
   "metadata": {},
   "outputs": [],
   "source": [
    "# Numero de locales como categoria\n",
    "\n",
    "df=pd.DataFrame(dataframe_final['LOCALES_1'])\n",
    "df_consecutivos = generar_consecutivos(df, 'LOCALES_1', 'LOCALES_1_1')\n",
    "categorias=pd.qcut(df_consecutivos['LOCALES_1_1'], 4, labels=False).sort_index()\n",
    "categorias=categorias.to_frame()\n",
    "categorias = categorias.rename(columns={'LOCALES_1_1':'Lotes_Cat_Locales'})\n",
    "dataframe_concat = pd.concat([dataframe_final['MUNICIPIO'], categorias], axis=1)\n",
    "nueva_dataframe = pd.pivot_table(dataframe_concat, index=dataframe_concat.MUNICIPIO, columns='Lotes_Cat_Locales', aggfunc='size', fill_value=0)\n",
    "nueva_dataframe.columns = ['Lotes_Cat_Locales_' + str(col) for col in nueva_dataframe.columns]\n",
    "Cat_Lotes_Locales=nueva_dataframe\n"
   ]
  },
  {
   "cell_type": "code",
   "execution_count": 20,
   "metadata": {},
   "outputs": [],
   "source": [
    "# porcentaje lotes por categoria de habitacion\n",
    "\n",
    "# Calcular la suma por fila\n",
    "suma_filas = Cat_Lotes_Banos.sum(axis=1)\n",
    "\n",
    "# Calcular los porcentajes de cada valor en las columnas\n",
    "porcentajes_Cat_Lotes_Habitacion = Cat_Lotes_Banos.div(suma_filas, axis=0) * 100"
   ]
  },
  {
   "cell_type": "code",
   "execution_count": 21,
   "metadata": {},
   "outputs": [],
   "source": [
    "# porcentaje lotes por categoria de hbaitacion baños\n",
    "\n",
    "# Calcular la suma por fila\n",
    "suma_filas = Cat_Lotes_Banos.sum(axis=1)\n",
    "\n",
    "# Calcular los porcentajes de cada valor en las columnas\n",
    "porcentajes_Cat_Lotes_Banos = Cat_Lotes_Banos.div(suma_filas, axis=0) * 100\n"
   ]
  },
  {
   "cell_type": "code",
   "execution_count": 38,
   "metadata": {},
   "outputs": [],
   "source": [
    "# porcentaje lotes por categoria de locales\n",
    "\n",
    "# Calcular la suma por fila\n",
    "suma_filas = Cat_Lotes_Locales.sum(axis=1)\n",
    "\n",
    "# Calcular los porcentajes de cada valor en las columnas\n",
    "porcentajes_Cat_Lotes_Locales = Cat_Lotes_Locales.div(suma_filas, axis=0) * 100\n"
   ]
  },
  {
   "cell_type": "code",
   "execution_count": 62,
   "metadata": {},
   "outputs": [],
   "source": [
    "df_unido=Municipios.merge(Area_mean_lote, left_on='Id_Municipio_Dane', right_on='MUNICIPIO', how='left')\n",
    "df_unido=df_unido.merge(Numero_lotes, left_on='Id_Municipio_Dane', right_on='MUNICIPIO', how='left')\n",
    "df_unido=df_unido.merge(Area_contruida, left_on='Id_Municipio_Dane', right_on='MUNICIPIO', how='left')\n",
    "df_unido=df_unido.merge(Cat_Area_Construida, left_on='Id_Municipio_Dane', right_on='MUNICIPIO', how='left')\n",
    "df_unido=df_unido.merge(Cat_Area, left_on='Id_Municipio_Dane', right_on='MUNICIPIO', how='left')\n",
    "df_unido=df_unido.merge(Habitaciones, left_on='Id_Municipio_Dane', right_on='MUNICIPIO', how='left')\n",
    "df_unido=df_unido.merge(Baños, left_on='Id_Municipio_Dane', right_on='MUNICIPIO', how='left')\n",
    "df_unido=df_unido.merge(Locales, left_on='Id_Municipio_Dane', right_on='MUNICIPIO', how='left')\n",
    "df_unido=df_unido.merge(Tipo_Uso, left_on='Id_Municipio_Dane', right_on='MUNICIPIO', how='left')\n",
    "df_unido=df_unido.merge(Tipificacion, left_on='Id_Municipio_Dane', right_on='MUNICIPIO', how='left')\n",
    "df_unido=df_unido.merge(porcentajes_cat_area_cosntruida, left_on='Id_Municipio_Dane', right_on='MUNICIPIO', how='left')\n",
    "df_unido=df_unido.merge(porcentajes_cat_area, left_on='Id_Municipio_Dane', right_on='MUNICIPIO', how='left')\n",
    "df_unido=df_unido.merge(Cat_Lotes_Habitacion, left_on='Id_Municipio_Dane', right_on='MUNICIPIO', how='left')\n",
    "df_unido=df_unido.merge(Cat_Lotes_Banos, left_on='Id_Municipio_Dane', right_on='MUNICIPIO', how='left')\n",
    "df_unido=df_unido.merge(Cat_Lotes_Locales, left_on='Id_Municipio_Dane', right_on='MUNICIPIO', how='left')\n",
    "df_unido=df_unido.merge(porcentajes_Cat_Lotes_Habitacion, left_on='Id_Municipio_Dane', right_on='MUNICIPIO', how='left')\n",
    "df_unido=df_unido.merge(porcentajes_Cat_Lotes_Banos, left_on='Id_Municipio_Dane', right_on='MUNICIPIO', how='left')\n",
    "df_unido=df_unido.merge(porcentajes_Cat_Lotes_Locales, left_on='Id_Municipio_Dane', right_on='MUNICIPIO', how='left')\n",
    "\n",
    "\n"
   ]
  },
  {
   "cell_type": "code",
   "execution_count": 26,
   "metadata": {},
   "outputs": [
    {
     "name": "stdout",
     "output_type": "stream",
     "text": [
      "Number of columns : 174\n"
     ]
    }
   ],
   "source": [
    "shape = df_unido.shape\n",
    "  \n",
    "# Printing Number of columns\n",
    "print('Number of columns :', shape[1])\n",
    "#df_unido"
   ]
  },
  {
   "cell_type": "code",
   "execution_count": 64,
   "metadata": {},
   "outputs": [],
   "source": [
    "df_unido.to_csv('C:/Users/ABI/Documents/1_Maestria/4_Proyect_Final/datos/Lotes.csv', index=False)\n"
   ]
  },
  {
   "cell_type": "code",
   "execution_count": 67,
   "metadata": {},
   "outputs": [
    {
     "ename": "JSONDecodeError",
     "evalue": "Extra data: line 1 column 2 (char 1)",
     "output_type": "error",
     "traceback": [
      "\u001b[1;31m---------------------------------------------------------------------------\u001b[0m",
      "\u001b[1;31mJSONDecodeError\u001b[0m                           Traceback (most recent call last)",
      "\u001b[1;32m<ipython-input-67-dfd9f528b1fa>\u001b[0m in \u001b[0;36m<module>\u001b[1;34m\u001b[0m\n\u001b[0;32m      9\u001b[0m \u001b[1;33m\u001b[0m\u001b[0m\n\u001b[0;32m     10\u001b[0m \u001b[1;31m# Convertir el contenido del archivo en un objeto JSON\u001b[0m\u001b[1;33m\u001b[0m\u001b[1;33m\u001b[0m\u001b[1;33m\u001b[0m\u001b[0m\n\u001b[1;32m---> 11\u001b[1;33m \u001b[0mdatos\u001b[0m \u001b[1;33m=\u001b[0m \u001b[0mjson\u001b[0m\u001b[1;33m.\u001b[0m\u001b[0mloads\u001b[0m\u001b[1;33m(\u001b[0m\u001b[0mcontenido\u001b[0m\u001b[1;33m)\u001b[0m\u001b[1;33m\u001b[0m\u001b[1;33m\u001b[0m\u001b[0m\n\u001b[0m\u001b[0;32m     12\u001b[0m \u001b[1;33m\u001b[0m\u001b[0m\n\u001b[0;32m     13\u001b[0m \u001b[1;31m# Ahora puedes acceder a los datos del archivo como un diccionario\u001b[0m\u001b[1;33m\u001b[0m\u001b[1;33m\u001b[0m\u001b[1;33m\u001b[0m\u001b[0m\n",
      "\u001b[1;32m~\\Anaconda3\\lib\\json\\__init__.py\u001b[0m in \u001b[0;36mloads\u001b[1;34m(s, encoding, cls, object_hook, parse_float, parse_int, parse_constant, object_pairs_hook, **kw)\u001b[0m\n\u001b[0;32m    346\u001b[0m             \u001b[0mparse_int\u001b[0m \u001b[1;32mis\u001b[0m \u001b[1;32mNone\u001b[0m \u001b[1;32mand\u001b[0m \u001b[0mparse_float\u001b[0m \u001b[1;32mis\u001b[0m \u001b[1;32mNone\u001b[0m \u001b[1;32mand\u001b[0m\u001b[1;33m\u001b[0m\u001b[1;33m\u001b[0m\u001b[0m\n\u001b[0;32m    347\u001b[0m             parse_constant is None and object_pairs_hook is None and not kw):\n\u001b[1;32m--> 348\u001b[1;33m         \u001b[1;32mreturn\u001b[0m \u001b[0m_default_decoder\u001b[0m\u001b[1;33m.\u001b[0m\u001b[0mdecode\u001b[0m\u001b[1;33m(\u001b[0m\u001b[0ms\u001b[0m\u001b[1;33m)\u001b[0m\u001b[1;33m\u001b[0m\u001b[1;33m\u001b[0m\u001b[0m\n\u001b[0m\u001b[0;32m    349\u001b[0m     \u001b[1;32mif\u001b[0m \u001b[0mcls\u001b[0m \u001b[1;32mis\u001b[0m \u001b[1;32mNone\u001b[0m\u001b[1;33m:\u001b[0m\u001b[1;33m\u001b[0m\u001b[1;33m\u001b[0m\u001b[0m\n\u001b[0;32m    350\u001b[0m         \u001b[0mcls\u001b[0m \u001b[1;33m=\u001b[0m \u001b[0mJSONDecoder\u001b[0m\u001b[1;33m\u001b[0m\u001b[1;33m\u001b[0m\u001b[0m\n",
      "\u001b[1;32m~\\Anaconda3\\lib\\json\\decoder.py\u001b[0m in \u001b[0;36mdecode\u001b[1;34m(self, s, _w)\u001b[0m\n\u001b[0;32m    338\u001b[0m         \u001b[0mend\u001b[0m \u001b[1;33m=\u001b[0m \u001b[0m_w\u001b[0m\u001b[1;33m(\u001b[0m\u001b[0ms\u001b[0m\u001b[1;33m,\u001b[0m \u001b[0mend\u001b[0m\u001b[1;33m)\u001b[0m\u001b[1;33m.\u001b[0m\u001b[0mend\u001b[0m\u001b[1;33m(\u001b[0m\u001b[1;33m)\u001b[0m\u001b[1;33m\u001b[0m\u001b[1;33m\u001b[0m\u001b[0m\n\u001b[0;32m    339\u001b[0m         \u001b[1;32mif\u001b[0m \u001b[0mend\u001b[0m \u001b[1;33m!=\u001b[0m \u001b[0mlen\u001b[0m\u001b[1;33m(\u001b[0m\u001b[0ms\u001b[0m\u001b[1;33m)\u001b[0m\u001b[1;33m:\u001b[0m\u001b[1;33m\u001b[0m\u001b[1;33m\u001b[0m\u001b[0m\n\u001b[1;32m--> 340\u001b[1;33m             \u001b[1;32mraise\u001b[0m \u001b[0mJSONDecodeError\u001b[0m\u001b[1;33m(\u001b[0m\u001b[1;34m\"Extra data\"\u001b[0m\u001b[1;33m,\u001b[0m \u001b[0ms\u001b[0m\u001b[1;33m,\u001b[0m \u001b[0mend\u001b[0m\u001b[1;33m)\u001b[0m\u001b[1;33m\u001b[0m\u001b[1;33m\u001b[0m\u001b[0m\n\u001b[0m\u001b[0;32m    341\u001b[0m         \u001b[1;32mreturn\u001b[0m \u001b[0mobj\u001b[0m\u001b[1;33m\u001b[0m\u001b[1;33m\u001b[0m\u001b[0m\n\u001b[0;32m    342\u001b[0m \u001b[1;33m\u001b[0m\u001b[0m\n",
      "\u001b[1;31mJSONDecodeError\u001b[0m: Extra data: line 1 column 2 (char 1)"
     ]
    }
   ],
   "source": [
    "import json\n",
    "\n",
    "# Ruta del archivo .sd\n",
    "ruta_archivo = 'C:/Users/ABI/Downloads/BASE_CATASTRAL_NACIONAL_11_2022.sd'\n",
    "\n",
    "# Leer el archivo .sd\n",
    "with open(ruta_archivo, 'r', encoding='latin-1') as archivo:\n",
    "    contenido = archivo.read()\n",
    "\n",
    "# Convertir el contenido del archivo en un objeto JSON\n",
    "datos = json.loads(contenido)\n",
    "\n",
    "# Ahora puedes acceder a los datos del archivo como un diccionario\n",
    "print(datos)"
   ]
  },
  {
   "cell_type": "code",
   "execution_count": 70,
   "metadata": {},
   "outputs": [
    {
     "name": "stderr",
     "output_type": "stream",
     "text": [
      "C:\\Users\\ABI\\Anaconda3\\lib\\site-packages\\IPython\\core\\interactiveshell.py:3049: DtypeWarning: Columns (0,1,3,6,33) have mixed types. Specify dtype option on import or set low_memory=False.\n",
      "  interactivity=interactivity, compiler=compiler, result=result)\n"
     ]
    }
   ],
   "source": [
    "import pandas as pd\n",
    "# Leer el archivo CSV como DataFrame\n",
    "df = pd.read_csv('C:/Users/ABI/Documents/1_Maestria/4_Proyect_Final/datos/lotes/TOTAL_NACIONAL_REG2.csv', sep=',',encoding='latin-1' )"
   ]
  },
  {
   "cell_type": "code",
   "execution_count": 72,
   "metadata": {},
   "outputs": [
    {
     "data": {
      "text/plain": [
       "array([8, 13, 15, nan, 17, 18, 19, 20, 23, 25, 27, 41, 44, 47, 50, 52, 54,\n",
       "       63, 66, 68.0, 70, 73, 76, 81, 85, 86, 88, 91, 94, 95.0, 97, 99,\n",
       "       '99', '.'], dtype=object)"
      ]
     },
     "execution_count": 72,
     "metadata": {},
     "output_type": "execute_result"
    }
   ],
   "source": [
    "df['DEPARTAMENTO'].unique()"
   ]
  },
  {
   "cell_type": "code",
   "execution_count": null,
   "metadata": {},
   "outputs": [],
   "source": []
  }
 ],
 "metadata": {
  "kernelspec": {
   "display_name": "Python 3",
   "language": "python",
   "name": "python3"
  },
  "language_info": {
   "codemirror_mode": {
    "name": "ipython",
    "version": 3
   },
   "file_extension": ".py",
   "mimetype": "text/x-python",
   "name": "python",
   "nbconvert_exporter": "python",
   "pygments_lexer": "ipython3",
   "version": "3.7.3"
  }
 },
 "nbformat": 4,
 "nbformat_minor": 2
}
